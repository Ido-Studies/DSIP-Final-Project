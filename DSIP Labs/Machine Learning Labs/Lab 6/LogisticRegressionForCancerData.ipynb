{
 "cells": [
  {
   "cell_type": "markdown",
   "id": "3d37df8f",
   "metadata": {},
   "source": [
    "<h1 style=\"text-align: center; font-size: 1000%; text-decoration: underline;\">Lab 6</h1>\n",
    "<h2 style=\"text-align: center; font-size: 250%;\">Ido Israeli (ID - 212432439)<br>Jonathan Derhy (ID - 315856377)</h2>"
   ]
  },
  {
   "cell_type": "code",
   "execution_count": 43,
   "id": "8244b32b",
   "metadata": {},
   "outputs": [],
   "source": [
    "import numpy as np\n",
    "import pandas as pd\n",
    "import warnings\n",
    "warnings.filterwarnings('ignore')\n",
    "import matplotlib.pyplot as plt"
   ]
  },
  {
   "cell_type": "markdown",
   "id": "a4aefe93",
   "metadata": {},
   "source": [
    "<h3>Loading Train Data</h3>"
   ]
  },
  {
   "cell_type": "code",
   "execution_count": 44,
   "id": "fd05bfd0",
   "metadata": {},
   "outputs": [
    {
     "data": {
      "text/html": [
       "<div>\n",
       "<style scoped>\n",
       "    .dataframe tbody tr th:only-of-type {\n",
       "        vertical-align: middle;\n",
       "    }\n",
       "\n",
       "    .dataframe tbody tr th {\n",
       "        vertical-align: top;\n",
       "    }\n",
       "\n",
       "    .dataframe thead th {\n",
       "        text-align: right;\n",
       "    }\n",
       "</style>\n",
       "<table border=\"1\" class=\"dataframe\">\n",
       "  <thead>\n",
       "    <tr style=\"text-align: right;\">\n",
       "      <th></th>\n",
       "      <th>diagnosis</th>\n",
       "      <th>radius_mean</th>\n",
       "      <th>texture_mean</th>\n",
       "      <th>perimeter_mean</th>\n",
       "      <th>area_mean</th>\n",
       "      <th>smoothness_mean</th>\n",
       "      <th>compactness_mean</th>\n",
       "      <th>concavity_mean</th>\n",
       "      <th>concave points_mean</th>\n",
       "      <th>symmetry_mean</th>\n",
       "      <th>...</th>\n",
       "      <th>radius_worst</th>\n",
       "      <th>texture_worst</th>\n",
       "      <th>perimeter_worst</th>\n",
       "      <th>area_worst</th>\n",
       "      <th>smoothness_worst</th>\n",
       "      <th>compactness_worst</th>\n",
       "      <th>concavity_worst</th>\n",
       "      <th>concave points_worst</th>\n",
       "      <th>symmetry_worst</th>\n",
       "      <th>fractal_dimension_worst</th>\n",
       "    </tr>\n",
       "  </thead>\n",
       "  <tbody>\n",
       "    <tr>\n",
       "      <th>0</th>\n",
       "      <td>1</td>\n",
       "      <td>20.260</td>\n",
       "      <td>23.03</td>\n",
       "      <td>132.40</td>\n",
       "      <td>1264.0</td>\n",
       "      <td>0.09078</td>\n",
       "      <td>0.13130</td>\n",
       "      <td>0.14650</td>\n",
       "      <td>0.08683</td>\n",
       "      <td>0.2095</td>\n",
       "      <td>...</td>\n",
       "      <td>24.22</td>\n",
       "      <td>31.59</td>\n",
       "      <td>156.10</td>\n",
       "      <td>1750.0</td>\n",
       "      <td>0.1190</td>\n",
       "      <td>0.3539</td>\n",
       "      <td>0.40980</td>\n",
       "      <td>0.15730</td>\n",
       "      <td>0.3689</td>\n",
       "      <td>0.08368</td>\n",
       "    </tr>\n",
       "    <tr>\n",
       "      <th>1</th>\n",
       "      <td>0</td>\n",
       "      <td>13.300</td>\n",
       "      <td>21.57</td>\n",
       "      <td>85.24</td>\n",
       "      <td>546.1</td>\n",
       "      <td>0.08582</td>\n",
       "      <td>0.06373</td>\n",
       "      <td>0.03344</td>\n",
       "      <td>0.02424</td>\n",
       "      <td>0.1815</td>\n",
       "      <td>...</td>\n",
       "      <td>14.20</td>\n",
       "      <td>29.20</td>\n",
       "      <td>92.94</td>\n",
       "      <td>621.2</td>\n",
       "      <td>0.1140</td>\n",
       "      <td>0.1667</td>\n",
       "      <td>0.12120</td>\n",
       "      <td>0.05614</td>\n",
       "      <td>0.2637</td>\n",
       "      <td>0.06658</td>\n",
       "    </tr>\n",
       "    <tr>\n",
       "      <th>2</th>\n",
       "      <td>0</td>\n",
       "      <td>12.220</td>\n",
       "      <td>20.04</td>\n",
       "      <td>79.47</td>\n",
       "      <td>453.1</td>\n",
       "      <td>0.10960</td>\n",
       "      <td>0.11520</td>\n",
       "      <td>0.08175</td>\n",
       "      <td>0.02166</td>\n",
       "      <td>0.2124</td>\n",
       "      <td>...</td>\n",
       "      <td>13.16</td>\n",
       "      <td>24.17</td>\n",
       "      <td>85.13</td>\n",
       "      <td>515.3</td>\n",
       "      <td>0.1402</td>\n",
       "      <td>0.2315</td>\n",
       "      <td>0.35350</td>\n",
       "      <td>0.08088</td>\n",
       "      <td>0.2709</td>\n",
       "      <td>0.08839</td>\n",
       "    </tr>\n",
       "    <tr>\n",
       "      <th>3</th>\n",
       "      <td>0</td>\n",
       "      <td>9.847</td>\n",
       "      <td>15.68</td>\n",
       "      <td>63.00</td>\n",
       "      <td>293.2</td>\n",
       "      <td>0.09492</td>\n",
       "      <td>0.08419</td>\n",
       "      <td>0.02330</td>\n",
       "      <td>0.02416</td>\n",
       "      <td>0.1387</td>\n",
       "      <td>...</td>\n",
       "      <td>11.24</td>\n",
       "      <td>22.99</td>\n",
       "      <td>74.32</td>\n",
       "      <td>376.5</td>\n",
       "      <td>0.1419</td>\n",
       "      <td>0.2243</td>\n",
       "      <td>0.08434</td>\n",
       "      <td>0.06528</td>\n",
       "      <td>0.2502</td>\n",
       "      <td>0.09209</td>\n",
       "    </tr>\n",
       "    <tr>\n",
       "      <th>4</th>\n",
       "      <td>1</td>\n",
       "      <td>21.100</td>\n",
       "      <td>20.52</td>\n",
       "      <td>138.10</td>\n",
       "      <td>1384.0</td>\n",
       "      <td>0.09684</td>\n",
       "      <td>0.11750</td>\n",
       "      <td>0.15720</td>\n",
       "      <td>0.11550</td>\n",
       "      <td>0.1554</td>\n",
       "      <td>...</td>\n",
       "      <td>25.68</td>\n",
       "      <td>32.07</td>\n",
       "      <td>168.20</td>\n",
       "      <td>2022.0</td>\n",
       "      <td>0.1368</td>\n",
       "      <td>0.3101</td>\n",
       "      <td>0.43990</td>\n",
       "      <td>0.22800</td>\n",
       "      <td>0.2268</td>\n",
       "      <td>0.07425</td>\n",
       "    </tr>\n",
       "    <tr>\n",
       "      <th>...</th>\n",
       "      <td>...</td>\n",
       "      <td>...</td>\n",
       "      <td>...</td>\n",
       "      <td>...</td>\n",
       "      <td>...</td>\n",
       "      <td>...</td>\n",
       "      <td>...</td>\n",
       "      <td>...</td>\n",
       "      <td>...</td>\n",
       "      <td>...</td>\n",
       "      <td>...</td>\n",
       "      <td>...</td>\n",
       "      <td>...</td>\n",
       "      <td>...</td>\n",
       "      <td>...</td>\n",
       "      <td>...</td>\n",
       "      <td>...</td>\n",
       "      <td>...</td>\n",
       "      <td>...</td>\n",
       "      <td>...</td>\n",
       "      <td>...</td>\n",
       "    </tr>\n",
       "    <tr>\n",
       "      <th>450</th>\n",
       "      <td>0</td>\n",
       "      <td>13.680</td>\n",
       "      <td>16.33</td>\n",
       "      <td>87.76</td>\n",
       "      <td>575.5</td>\n",
       "      <td>0.09277</td>\n",
       "      <td>0.07255</td>\n",
       "      <td>0.01752</td>\n",
       "      <td>0.01880</td>\n",
       "      <td>0.1631</td>\n",
       "      <td>...</td>\n",
       "      <td>15.85</td>\n",
       "      <td>20.20</td>\n",
       "      <td>101.60</td>\n",
       "      <td>773.4</td>\n",
       "      <td>0.1264</td>\n",
       "      <td>0.1564</td>\n",
       "      <td>0.12060</td>\n",
       "      <td>0.08704</td>\n",
       "      <td>0.2806</td>\n",
       "      <td>0.07782</td>\n",
       "    </tr>\n",
       "    <tr>\n",
       "      <th>451</th>\n",
       "      <td>0</td>\n",
       "      <td>11.290</td>\n",
       "      <td>13.04</td>\n",
       "      <td>72.23</td>\n",
       "      <td>388.0</td>\n",
       "      <td>0.09834</td>\n",
       "      <td>0.07608</td>\n",
       "      <td>0.03265</td>\n",
       "      <td>0.02755</td>\n",
       "      <td>0.1769</td>\n",
       "      <td>...</td>\n",
       "      <td>12.32</td>\n",
       "      <td>16.18</td>\n",
       "      <td>78.27</td>\n",
       "      <td>457.5</td>\n",
       "      <td>0.1358</td>\n",
       "      <td>0.1507</td>\n",
       "      <td>0.12750</td>\n",
       "      <td>0.08750</td>\n",
       "      <td>0.2733</td>\n",
       "      <td>0.08022</td>\n",
       "    </tr>\n",
       "    <tr>\n",
       "      <th>452</th>\n",
       "      <td>0</td>\n",
       "      <td>13.490</td>\n",
       "      <td>22.30</td>\n",
       "      <td>86.91</td>\n",
       "      <td>561.0</td>\n",
       "      <td>0.08752</td>\n",
       "      <td>0.07698</td>\n",
       "      <td>0.04751</td>\n",
       "      <td>0.03384</td>\n",
       "      <td>0.1809</td>\n",
       "      <td>...</td>\n",
       "      <td>15.15</td>\n",
       "      <td>31.82</td>\n",
       "      <td>99.00</td>\n",
       "      <td>698.8</td>\n",
       "      <td>0.1162</td>\n",
       "      <td>0.1711</td>\n",
       "      <td>0.22820</td>\n",
       "      <td>0.12820</td>\n",
       "      <td>0.2871</td>\n",
       "      <td>0.06917</td>\n",
       "    </tr>\n",
       "    <tr>\n",
       "      <th>453</th>\n",
       "      <td>1</td>\n",
       "      <td>20.160</td>\n",
       "      <td>19.66</td>\n",
       "      <td>131.10</td>\n",
       "      <td>1274.0</td>\n",
       "      <td>0.08020</td>\n",
       "      <td>0.08564</td>\n",
       "      <td>0.11550</td>\n",
       "      <td>0.07726</td>\n",
       "      <td>0.1928</td>\n",
       "      <td>...</td>\n",
       "      <td>23.06</td>\n",
       "      <td>23.03</td>\n",
       "      <td>150.20</td>\n",
       "      <td>1657.0</td>\n",
       "      <td>0.1054</td>\n",
       "      <td>0.1537</td>\n",
       "      <td>0.26060</td>\n",
       "      <td>0.14250</td>\n",
       "      <td>0.3055</td>\n",
       "      <td>0.05933</td>\n",
       "    </tr>\n",
       "    <tr>\n",
       "      <th>454</th>\n",
       "      <td>0</td>\n",
       "      <td>10.490</td>\n",
       "      <td>19.29</td>\n",
       "      <td>67.41</td>\n",
       "      <td>336.1</td>\n",
       "      <td>0.09989</td>\n",
       "      <td>0.08578</td>\n",
       "      <td>0.02995</td>\n",
       "      <td>0.01201</td>\n",
       "      <td>0.2217</td>\n",
       "      <td>...</td>\n",
       "      <td>11.54</td>\n",
       "      <td>23.31</td>\n",
       "      <td>74.22</td>\n",
       "      <td>402.8</td>\n",
       "      <td>0.1219</td>\n",
       "      <td>0.1486</td>\n",
       "      <td>0.07987</td>\n",
       "      <td>0.03203</td>\n",
       "      <td>0.2826</td>\n",
       "      <td>0.07552</td>\n",
       "    </tr>\n",
       "  </tbody>\n",
       "</table>\n",
       "<p>455 rows × 31 columns</p>\n",
       "</div>"
      ],
      "text/plain": [
       "     diagnosis  radius_mean  texture_mean  perimeter_mean  area_mean  \\\n",
       "0            1       20.260         23.03          132.40     1264.0   \n",
       "1            0       13.300         21.57           85.24      546.1   \n",
       "2            0       12.220         20.04           79.47      453.1   \n",
       "3            0        9.847         15.68           63.00      293.2   \n",
       "4            1       21.100         20.52          138.10     1384.0   \n",
       "..         ...          ...           ...             ...        ...   \n",
       "450          0       13.680         16.33           87.76      575.5   \n",
       "451          0       11.290         13.04           72.23      388.0   \n",
       "452          0       13.490         22.30           86.91      561.0   \n",
       "453          1       20.160         19.66          131.10     1274.0   \n",
       "454          0       10.490         19.29           67.41      336.1   \n",
       "\n",
       "     smoothness_mean  compactness_mean  concavity_mean  concave points_mean  \\\n",
       "0            0.09078           0.13130         0.14650              0.08683   \n",
       "1            0.08582           0.06373         0.03344              0.02424   \n",
       "2            0.10960           0.11520         0.08175              0.02166   \n",
       "3            0.09492           0.08419         0.02330              0.02416   \n",
       "4            0.09684           0.11750         0.15720              0.11550   \n",
       "..               ...               ...             ...                  ...   \n",
       "450          0.09277           0.07255         0.01752              0.01880   \n",
       "451          0.09834           0.07608         0.03265              0.02755   \n",
       "452          0.08752           0.07698         0.04751              0.03384   \n",
       "453          0.08020           0.08564         0.11550              0.07726   \n",
       "454          0.09989           0.08578         0.02995              0.01201   \n",
       "\n",
       "     symmetry_mean  ...  radius_worst  texture_worst  perimeter_worst  \\\n",
       "0           0.2095  ...         24.22          31.59           156.10   \n",
       "1           0.1815  ...         14.20          29.20            92.94   \n",
       "2           0.2124  ...         13.16          24.17            85.13   \n",
       "3           0.1387  ...         11.24          22.99            74.32   \n",
       "4           0.1554  ...         25.68          32.07           168.20   \n",
       "..             ...  ...           ...            ...              ...   \n",
       "450         0.1631  ...         15.85          20.20           101.60   \n",
       "451         0.1769  ...         12.32          16.18            78.27   \n",
       "452         0.1809  ...         15.15          31.82            99.00   \n",
       "453         0.1928  ...         23.06          23.03           150.20   \n",
       "454         0.2217  ...         11.54          23.31            74.22   \n",
       "\n",
       "     area_worst  smoothness_worst  compactness_worst  concavity_worst  \\\n",
       "0        1750.0            0.1190             0.3539          0.40980   \n",
       "1         621.2            0.1140             0.1667          0.12120   \n",
       "2         515.3            0.1402             0.2315          0.35350   \n",
       "3         376.5            0.1419             0.2243          0.08434   \n",
       "4        2022.0            0.1368             0.3101          0.43990   \n",
       "..          ...               ...                ...              ...   \n",
       "450       773.4            0.1264             0.1564          0.12060   \n",
       "451       457.5            0.1358             0.1507          0.12750   \n",
       "452       698.8            0.1162             0.1711          0.22820   \n",
       "453      1657.0            0.1054             0.1537          0.26060   \n",
       "454       402.8            0.1219             0.1486          0.07987   \n",
       "\n",
       "     concave points_worst  symmetry_worst  fractal_dimension_worst  \n",
       "0                 0.15730          0.3689                  0.08368  \n",
       "1                 0.05614          0.2637                  0.06658  \n",
       "2                 0.08088          0.2709                  0.08839  \n",
       "3                 0.06528          0.2502                  0.09209  \n",
       "4                 0.22800          0.2268                  0.07425  \n",
       "..                    ...             ...                      ...  \n",
       "450               0.08704          0.2806                  0.07782  \n",
       "451               0.08750          0.2733                  0.08022  \n",
       "452               0.12820          0.2871                  0.06917  \n",
       "453               0.14250          0.3055                  0.05933  \n",
       "454               0.03203          0.2826                  0.07552  \n",
       "\n",
       "[455 rows x 31 columns]"
      ]
     },
     "execution_count": 44,
     "metadata": {},
     "output_type": "execute_result"
    }
   ],
   "source": [
    "dfTrain = pd.read_csv('.\\External\\Data\\TrainData.csv')\n",
    "dfTrain"
   ]
  },
  {
   "cell_type": "markdown",
   "id": "7cdee516",
   "metadata": {},
   "source": [
    "<h4>Extracting Train Classifications into Ytrain</h4>"
   ]
  },
  {
   "cell_type": "code",
   "execution_count": 45,
   "id": "4735d92a",
   "metadata": {},
   "outputs": [
    {
     "data": {
      "text/plain": [
       "array([1, 0, 0, 0, 1, 0, 1, 0, 0, 0, 0, 0, 0, 0, 0, 1, 1, 0, 1, 0, 1, 1,\n",
       "       0, 0, 1, 1, 1, 0, 1, 0, 0, 1, 0, 0, 1, 0, 0, 0, 0, 1, 0, 1, 0, 1,\n",
       "       1, 0, 0, 1, 0, 1, 0, 0, 0, 0, 0, 0, 1, 0, 0, 1, 0, 1, 0, 0, 0, 0,\n",
       "       0, 1, 1, 0, 1, 1, 0, 0, 1, 0, 0, 1, 1, 0, 1, 0, 0, 0, 0, 1, 0, 0,\n",
       "       0, 0, 1, 1, 0, 0, 0, 1, 0, 1, 1, 0, 1, 1, 0, 1, 0, 0, 0, 1, 0, 1,\n",
       "       1, 1, 1, 0, 0, 1, 1, 0, 0, 0, 0, 0, 0, 1, 0, 0, 1, 0, 0, 1, 0, 0,\n",
       "       0, 1, 0, 1, 0, 0, 1, 0, 0, 0, 0, 0, 0, 1, 1, 0, 0, 0, 1, 0, 0, 0,\n",
       "       0, 0, 1, 0, 0, 0, 0, 0, 0, 0, 0, 0, 0, 1, 0, 0, 0, 0, 1, 1, 1, 0,\n",
       "       0, 0, 0, 0, 0, 0, 1, 0, 0, 1, 0, 0, 1, 0, 1, 0, 0, 0, 0, 0, 0, 1,\n",
       "       0, 1, 0, 1, 0, 1, 1, 0, 0, 1, 0, 1, 1, 0, 1, 0, 0, 1, 0, 1, 0, 0,\n",
       "       1, 1, 1, 0, 0, 1, 0, 0, 1, 1, 1, 0, 1, 1, 1, 1, 0, 0, 1, 0, 0, 0,\n",
       "       0, 1, 0, 1, 1, 0, 0, 1, 0, 0, 0, 0, 0, 0, 1, 1, 1, 0, 0, 0, 1, 1,\n",
       "       1, 0, 0, 1, 1, 0, 0, 0, 1, 0, 0, 0, 1, 0, 1, 0, 1, 0, 1, 0, 0, 0,\n",
       "       1, 1, 0, 1, 0, 0, 0, 0, 0, 0, 1, 0, 1, 0, 1, 0, 0, 1, 1, 1, 0, 0,\n",
       "       0, 0, 0, 0, 0, 0, 0, 0, 0, 1, 1, 0, 1, 1, 0, 0, 0, 1, 1, 0, 1, 1,\n",
       "       0, 0, 1, 0, 1, 0, 0, 1, 1, 0, 0, 1, 0, 0, 1, 1, 0, 1, 0, 0, 0, 1,\n",
       "       0, 1, 0, 1, 1, 0, 0, 1, 0, 0, 1, 1, 0, 0, 1, 0, 1, 0, 0, 0, 1, 0,\n",
       "       0, 1, 1, 0, 0, 0, 0, 0, 0, 0, 0, 1, 0, 0, 1, 1, 1, 0, 0, 0, 0, 1,\n",
       "       0, 0, 1, 1, 1, 1, 1, 0, 0, 0, 0, 1, 0, 0, 1, 1, 0, 1, 0, 0, 0, 0,\n",
       "       1, 0, 1, 0, 0, 1, 0, 1, 0, 1, 1, 1, 0, 0, 0, 0, 0, 0, 1, 0, 0, 0,\n",
       "       0, 0, 0, 0, 1, 0, 0, 0, 0, 0, 0, 0, 0, 1, 0], dtype=int64)"
      ]
     },
     "execution_count": 45,
     "metadata": {},
     "output_type": "execute_result"
    }
   ],
   "source": [
    "Ytrain = dfTrain[\"diagnosis\"].values\n",
    "Ytrain"
   ]
  },
  {
   "cell_type": "markdown",
   "id": "67e218fd",
   "metadata": {},
   "source": [
    "<h4>Extracting Train Core Data into Xtrain</h4>"
   ]
  },
  {
   "cell_type": "code",
   "execution_count": 46,
   "id": "a35a31a1",
   "metadata": {
    "scrolled": true
   },
   "outputs": [
    {
     "data": {
      "text/plain": [
       "array([[2.026e+01, 2.303e+01, 1.324e+02, ..., 1.573e-01, 3.689e-01,\n",
       "        8.368e-02],\n",
       "       [1.330e+01, 2.157e+01, 8.524e+01, ..., 5.614e-02, 2.637e-01,\n",
       "        6.658e-02],\n",
       "       [1.222e+01, 2.004e+01, 7.947e+01, ..., 8.088e-02, 2.709e-01,\n",
       "        8.839e-02],\n",
       "       ...,\n",
       "       [1.349e+01, 2.230e+01, 8.691e+01, ..., 1.282e-01, 2.871e-01,\n",
       "        6.917e-02],\n",
       "       [2.016e+01, 1.966e+01, 1.311e+02, ..., 1.425e-01, 3.055e-01,\n",
       "        5.933e-02],\n",
       "       [1.049e+01, 1.929e+01, 6.741e+01, ..., 3.203e-02, 2.826e-01,\n",
       "        7.552e-02]])"
      ]
     },
     "execution_count": 46,
     "metadata": {},
     "output_type": "execute_result"
    }
   ],
   "source": [
    "Xtrain = dfTrain[dfTrain.columns[1:]].values\n",
    "Xtrain"
   ]
  },
  {
   "cell_type": "markdown",
   "id": "e7c1426d",
   "metadata": {},
   "source": [
    "<h3>Loading Test Data</h3>"
   ]
  },
  {
   "cell_type": "code",
   "execution_count": 47,
   "id": "80dad70a",
   "metadata": {},
   "outputs": [
    {
     "data": {
      "text/html": [
       "<div>\n",
       "<style scoped>\n",
       "    .dataframe tbody tr th:only-of-type {\n",
       "        vertical-align: middle;\n",
       "    }\n",
       "\n",
       "    .dataframe tbody tr th {\n",
       "        vertical-align: top;\n",
       "    }\n",
       "\n",
       "    .dataframe thead th {\n",
       "        text-align: right;\n",
       "    }\n",
       "</style>\n",
       "<table border=\"1\" class=\"dataframe\">\n",
       "  <thead>\n",
       "    <tr style=\"text-align: right;\">\n",
       "      <th></th>\n",
       "      <th>diagnosis</th>\n",
       "      <th>radius_mean</th>\n",
       "      <th>texture_mean</th>\n",
       "      <th>perimeter_mean</th>\n",
       "      <th>area_mean</th>\n",
       "      <th>smoothness_mean</th>\n",
       "      <th>compactness_mean</th>\n",
       "      <th>concavity_mean</th>\n",
       "      <th>concave points_mean</th>\n",
       "      <th>symmetry_mean</th>\n",
       "      <th>...</th>\n",
       "      <th>radius_worst</th>\n",
       "      <th>texture_worst</th>\n",
       "      <th>perimeter_worst</th>\n",
       "      <th>area_worst</th>\n",
       "      <th>smoothness_worst</th>\n",
       "      <th>compactness_worst</th>\n",
       "      <th>concavity_worst</th>\n",
       "      <th>concave points_worst</th>\n",
       "      <th>symmetry_worst</th>\n",
       "      <th>fractal_dimension_worst</th>\n",
       "    </tr>\n",
       "  </thead>\n",
       "  <tbody>\n",
       "    <tr>\n",
       "      <th>0</th>\n",
       "      <td>1</td>\n",
       "      <td>16.74</td>\n",
       "      <td>21.59</td>\n",
       "      <td>110.10</td>\n",
       "      <td>869.5</td>\n",
       "      <td>0.09610</td>\n",
       "      <td>0.13360</td>\n",
       "      <td>0.134800</td>\n",
       "      <td>0.060180</td>\n",
       "      <td>0.1896</td>\n",
       "      <td>...</td>\n",
       "      <td>20.01</td>\n",
       "      <td>29.02</td>\n",
       "      <td>133.50</td>\n",
       "      <td>1229.0</td>\n",
       "      <td>0.15630</td>\n",
       "      <td>0.38350</td>\n",
       "      <td>0.540900</td>\n",
       "      <td>0.18130</td>\n",
       "      <td>0.4863</td>\n",
       "      <td>0.08633</td>\n",
       "    </tr>\n",
       "    <tr>\n",
       "      <th>1</th>\n",
       "      <td>1</td>\n",
       "      <td>18.25</td>\n",
       "      <td>19.98</td>\n",
       "      <td>119.60</td>\n",
       "      <td>1040.0</td>\n",
       "      <td>0.09463</td>\n",
       "      <td>0.10900</td>\n",
       "      <td>0.112700</td>\n",
       "      <td>0.074000</td>\n",
       "      <td>0.1794</td>\n",
       "      <td>...</td>\n",
       "      <td>22.88</td>\n",
       "      <td>27.66</td>\n",
       "      <td>153.20</td>\n",
       "      <td>1606.0</td>\n",
       "      <td>0.14420</td>\n",
       "      <td>0.25760</td>\n",
       "      <td>0.378400</td>\n",
       "      <td>0.19320</td>\n",
       "      <td>0.3063</td>\n",
       "      <td>0.08368</td>\n",
       "    </tr>\n",
       "    <tr>\n",
       "      <th>2</th>\n",
       "      <td>1</td>\n",
       "      <td>20.34</td>\n",
       "      <td>21.51</td>\n",
       "      <td>135.90</td>\n",
       "      <td>1264.0</td>\n",
       "      <td>0.11700</td>\n",
       "      <td>0.18750</td>\n",
       "      <td>0.256500</td>\n",
       "      <td>0.150400</td>\n",
       "      <td>0.2569</td>\n",
       "      <td>...</td>\n",
       "      <td>25.30</td>\n",
       "      <td>31.86</td>\n",
       "      <td>171.10</td>\n",
       "      <td>1938.0</td>\n",
       "      <td>0.15920</td>\n",
       "      <td>0.44920</td>\n",
       "      <td>0.534400</td>\n",
       "      <td>0.26850</td>\n",
       "      <td>0.5558</td>\n",
       "      <td>0.10240</td>\n",
       "    </tr>\n",
       "    <tr>\n",
       "      <th>3</th>\n",
       "      <td>0</td>\n",
       "      <td>11.08</td>\n",
       "      <td>14.71</td>\n",
       "      <td>70.21</td>\n",
       "      <td>372.7</td>\n",
       "      <td>0.10060</td>\n",
       "      <td>0.05743</td>\n",
       "      <td>0.023630</td>\n",
       "      <td>0.025830</td>\n",
       "      <td>0.1566</td>\n",
       "      <td>...</td>\n",
       "      <td>11.35</td>\n",
       "      <td>16.82</td>\n",
       "      <td>72.01</td>\n",
       "      <td>396.5</td>\n",
       "      <td>0.12160</td>\n",
       "      <td>0.08240</td>\n",
       "      <td>0.039380</td>\n",
       "      <td>0.04306</td>\n",
       "      <td>0.1902</td>\n",
       "      <td>0.07313</td>\n",
       "    </tr>\n",
       "    <tr>\n",
       "      <th>4</th>\n",
       "      <td>0</td>\n",
       "      <td>12.46</td>\n",
       "      <td>12.83</td>\n",
       "      <td>78.83</td>\n",
       "      <td>477.3</td>\n",
       "      <td>0.07372</td>\n",
       "      <td>0.04043</td>\n",
       "      <td>0.007173</td>\n",
       "      <td>0.011490</td>\n",
       "      <td>0.1613</td>\n",
       "      <td>...</td>\n",
       "      <td>13.19</td>\n",
       "      <td>16.36</td>\n",
       "      <td>83.24</td>\n",
       "      <td>534.0</td>\n",
       "      <td>0.09439</td>\n",
       "      <td>0.06477</td>\n",
       "      <td>0.016740</td>\n",
       "      <td>0.02680</td>\n",
       "      <td>0.2280</td>\n",
       "      <td>0.07028</td>\n",
       "    </tr>\n",
       "    <tr>\n",
       "      <th>...</th>\n",
       "      <td>...</td>\n",
       "      <td>...</td>\n",
       "      <td>...</td>\n",
       "      <td>...</td>\n",
       "      <td>...</td>\n",
       "      <td>...</td>\n",
       "      <td>...</td>\n",
       "      <td>...</td>\n",
       "      <td>...</td>\n",
       "      <td>...</td>\n",
       "      <td>...</td>\n",
       "      <td>...</td>\n",
       "      <td>...</td>\n",
       "      <td>...</td>\n",
       "      <td>...</td>\n",
       "      <td>...</td>\n",
       "      <td>...</td>\n",
       "      <td>...</td>\n",
       "      <td>...</td>\n",
       "      <td>...</td>\n",
       "      <td>...</td>\n",
       "    </tr>\n",
       "    <tr>\n",
       "      <th>109</th>\n",
       "      <td>1</td>\n",
       "      <td>28.11</td>\n",
       "      <td>18.47</td>\n",
       "      <td>188.50</td>\n",
       "      <td>2499.0</td>\n",
       "      <td>0.11420</td>\n",
       "      <td>0.15160</td>\n",
       "      <td>0.320100</td>\n",
       "      <td>0.159500</td>\n",
       "      <td>0.1648</td>\n",
       "      <td>...</td>\n",
       "      <td>28.11</td>\n",
       "      <td>18.47</td>\n",
       "      <td>188.50</td>\n",
       "      <td>2499.0</td>\n",
       "      <td>0.11420</td>\n",
       "      <td>0.15160</td>\n",
       "      <td>0.320100</td>\n",
       "      <td>0.15950</td>\n",
       "      <td>0.1648</td>\n",
       "      <td>0.05525</td>\n",
       "    </tr>\n",
       "    <tr>\n",
       "      <th>110</th>\n",
       "      <td>0</td>\n",
       "      <td>12.54</td>\n",
       "      <td>18.07</td>\n",
       "      <td>79.42</td>\n",
       "      <td>491.9</td>\n",
       "      <td>0.07436</td>\n",
       "      <td>0.02650</td>\n",
       "      <td>0.001194</td>\n",
       "      <td>0.005449</td>\n",
       "      <td>0.1528</td>\n",
       "      <td>...</td>\n",
       "      <td>13.72</td>\n",
       "      <td>20.98</td>\n",
       "      <td>86.82</td>\n",
       "      <td>585.7</td>\n",
       "      <td>0.09293</td>\n",
       "      <td>0.04327</td>\n",
       "      <td>0.003581</td>\n",
       "      <td>0.01635</td>\n",
       "      <td>0.2233</td>\n",
       "      <td>0.05521</td>\n",
       "    </tr>\n",
       "    <tr>\n",
       "      <th>111</th>\n",
       "      <td>1</td>\n",
       "      <td>17.35</td>\n",
       "      <td>23.06</td>\n",
       "      <td>111.00</td>\n",
       "      <td>933.1</td>\n",
       "      <td>0.08662</td>\n",
       "      <td>0.06290</td>\n",
       "      <td>0.028910</td>\n",
       "      <td>0.028370</td>\n",
       "      <td>0.1564</td>\n",
       "      <td>...</td>\n",
       "      <td>19.85</td>\n",
       "      <td>31.47</td>\n",
       "      <td>128.20</td>\n",
       "      <td>1218.0</td>\n",
       "      <td>0.12400</td>\n",
       "      <td>0.14860</td>\n",
       "      <td>0.121100</td>\n",
       "      <td>0.08235</td>\n",
       "      <td>0.2452</td>\n",
       "      <td>0.06515</td>\n",
       "    </tr>\n",
       "    <tr>\n",
       "      <th>112</th>\n",
       "      <td>1</td>\n",
       "      <td>20.20</td>\n",
       "      <td>26.83</td>\n",
       "      <td>133.70</td>\n",
       "      <td>1234.0</td>\n",
       "      <td>0.09905</td>\n",
       "      <td>0.16690</td>\n",
       "      <td>0.164100</td>\n",
       "      <td>0.126500</td>\n",
       "      <td>0.1875</td>\n",
       "      <td>...</td>\n",
       "      <td>24.19</td>\n",
       "      <td>33.81</td>\n",
       "      <td>160.00</td>\n",
       "      <td>1671.0</td>\n",
       "      <td>0.12780</td>\n",
       "      <td>0.34160</td>\n",
       "      <td>0.370300</td>\n",
       "      <td>0.21520</td>\n",
       "      <td>0.3271</td>\n",
       "      <td>0.07632</td>\n",
       "    </tr>\n",
       "    <tr>\n",
       "      <th>113</th>\n",
       "      <td>0</td>\n",
       "      <td>14.11</td>\n",
       "      <td>12.88</td>\n",
       "      <td>90.03</td>\n",
       "      <td>616.5</td>\n",
       "      <td>0.09309</td>\n",
       "      <td>0.05306</td>\n",
       "      <td>0.017650</td>\n",
       "      <td>0.027330</td>\n",
       "      <td>0.1373</td>\n",
       "      <td>...</td>\n",
       "      <td>15.53</td>\n",
       "      <td>18.00</td>\n",
       "      <td>98.40</td>\n",
       "      <td>749.9</td>\n",
       "      <td>0.12810</td>\n",
       "      <td>0.11090</td>\n",
       "      <td>0.053070</td>\n",
       "      <td>0.05890</td>\n",
       "      <td>0.2100</td>\n",
       "      <td>0.07083</td>\n",
       "    </tr>\n",
       "  </tbody>\n",
       "</table>\n",
       "<p>114 rows × 31 columns</p>\n",
       "</div>"
      ],
      "text/plain": [
       "     diagnosis  radius_mean  texture_mean  perimeter_mean  area_mean  \\\n",
       "0            1        16.74         21.59          110.10      869.5   \n",
       "1            1        18.25         19.98          119.60     1040.0   \n",
       "2            1        20.34         21.51          135.90     1264.0   \n",
       "3            0        11.08         14.71           70.21      372.7   \n",
       "4            0        12.46         12.83           78.83      477.3   \n",
       "..         ...          ...           ...             ...        ...   \n",
       "109          1        28.11         18.47          188.50     2499.0   \n",
       "110          0        12.54         18.07           79.42      491.9   \n",
       "111          1        17.35         23.06          111.00      933.1   \n",
       "112          1        20.20         26.83          133.70     1234.0   \n",
       "113          0        14.11         12.88           90.03      616.5   \n",
       "\n",
       "     smoothness_mean  compactness_mean  concavity_mean  concave points_mean  \\\n",
       "0            0.09610           0.13360        0.134800             0.060180   \n",
       "1            0.09463           0.10900        0.112700             0.074000   \n",
       "2            0.11700           0.18750        0.256500             0.150400   \n",
       "3            0.10060           0.05743        0.023630             0.025830   \n",
       "4            0.07372           0.04043        0.007173             0.011490   \n",
       "..               ...               ...             ...                  ...   \n",
       "109          0.11420           0.15160        0.320100             0.159500   \n",
       "110          0.07436           0.02650        0.001194             0.005449   \n",
       "111          0.08662           0.06290        0.028910             0.028370   \n",
       "112          0.09905           0.16690        0.164100             0.126500   \n",
       "113          0.09309           0.05306        0.017650             0.027330   \n",
       "\n",
       "     symmetry_mean  ...  radius_worst  texture_worst  perimeter_worst  \\\n",
       "0           0.1896  ...         20.01          29.02           133.50   \n",
       "1           0.1794  ...         22.88          27.66           153.20   \n",
       "2           0.2569  ...         25.30          31.86           171.10   \n",
       "3           0.1566  ...         11.35          16.82            72.01   \n",
       "4           0.1613  ...         13.19          16.36            83.24   \n",
       "..             ...  ...           ...            ...              ...   \n",
       "109         0.1648  ...         28.11          18.47           188.50   \n",
       "110         0.1528  ...         13.72          20.98            86.82   \n",
       "111         0.1564  ...         19.85          31.47           128.20   \n",
       "112         0.1875  ...         24.19          33.81           160.00   \n",
       "113         0.1373  ...         15.53          18.00            98.40   \n",
       "\n",
       "     area_worst  smoothness_worst  compactness_worst  concavity_worst  \\\n",
       "0        1229.0           0.15630            0.38350         0.540900   \n",
       "1        1606.0           0.14420            0.25760         0.378400   \n",
       "2        1938.0           0.15920            0.44920         0.534400   \n",
       "3         396.5           0.12160            0.08240         0.039380   \n",
       "4         534.0           0.09439            0.06477         0.016740   \n",
       "..          ...               ...                ...              ...   \n",
       "109      2499.0           0.11420            0.15160         0.320100   \n",
       "110       585.7           0.09293            0.04327         0.003581   \n",
       "111      1218.0           0.12400            0.14860         0.121100   \n",
       "112      1671.0           0.12780            0.34160         0.370300   \n",
       "113       749.9           0.12810            0.11090         0.053070   \n",
       "\n",
       "     concave points_worst  symmetry_worst  fractal_dimension_worst  \n",
       "0                 0.18130          0.4863                  0.08633  \n",
       "1                 0.19320          0.3063                  0.08368  \n",
       "2                 0.26850          0.5558                  0.10240  \n",
       "3                 0.04306          0.1902                  0.07313  \n",
       "4                 0.02680          0.2280                  0.07028  \n",
       "..                    ...             ...                      ...  \n",
       "109               0.15950          0.1648                  0.05525  \n",
       "110               0.01635          0.2233                  0.05521  \n",
       "111               0.08235          0.2452                  0.06515  \n",
       "112               0.21520          0.3271                  0.07632  \n",
       "113               0.05890          0.2100                  0.07083  \n",
       "\n",
       "[114 rows x 31 columns]"
      ]
     },
     "execution_count": 47,
     "metadata": {},
     "output_type": "execute_result"
    }
   ],
   "source": [
    "dfTest = pd.read_csv('.\\External\\Data\\TestData.csv')\n",
    "dfTest"
   ]
  },
  {
   "cell_type": "markdown",
   "id": "4d6ae925",
   "metadata": {},
   "source": [
    "<h4>Extracting Test Classifications into Ytest</h4>"
   ]
  },
  {
   "cell_type": "code",
   "execution_count": 48,
   "id": "25002e36",
   "metadata": {},
   "outputs": [
    {
     "data": {
      "text/plain": [
       "array([1, 1, 1, 0, 0, 0, 1, 0, 0, 1, 0, 0, 0, 0, 0, 0, 0, 1, 0, 1, 1, 1,\n",
       "       1, 0, 1, 0, 0, 1, 0, 1, 0, 0, 1, 0, 0, 1, 0, 0, 0, 0, 0, 0, 0, 0,\n",
       "       1, 0, 0, 0, 0, 0, 1, 1, 0, 0, 0, 1, 1, 0, 0, 0, 0, 0, 1, 0, 1, 1,\n",
       "       0, 1, 1, 0, 1, 1, 0, 1, 0, 1, 0, 0, 1, 1, 1, 1, 0, 1, 1, 0, 1, 0,\n",
       "       0, 0, 1, 1, 1, 0, 0, 0, 0, 0, 0, 1, 0, 0, 1, 0, 1, 1, 0, 0, 0, 1,\n",
       "       0, 1, 1, 0], dtype=int64)"
      ]
     },
     "execution_count": 48,
     "metadata": {},
     "output_type": "execute_result"
    }
   ],
   "source": [
    "Ytest = dfTest[\"diagnosis\"].values\n",
    "Ytest"
   ]
  },
  {
   "cell_type": "markdown",
   "id": "b8c54f07",
   "metadata": {},
   "source": [
    "<h4>Extracting Test Core Data into Xtest</h4>"
   ]
  },
  {
   "cell_type": "code",
   "execution_count": 49,
   "id": "8d890062",
   "metadata": {},
   "outputs": [
    {
     "data": {
      "text/plain": [
       "array([[1.674e+01, 2.159e+01, 1.101e+02, ..., 1.813e-01, 4.863e-01,\n",
       "        8.633e-02],\n",
       "       [1.825e+01, 1.998e+01, 1.196e+02, ..., 1.932e-01, 3.063e-01,\n",
       "        8.368e-02],\n",
       "       [2.034e+01, 2.151e+01, 1.359e+02, ..., 2.685e-01, 5.558e-01,\n",
       "        1.024e-01],\n",
       "       ...,\n",
       "       [1.735e+01, 2.306e+01, 1.110e+02, ..., 8.235e-02, 2.452e-01,\n",
       "        6.515e-02],\n",
       "       [2.020e+01, 2.683e+01, 1.337e+02, ..., 2.152e-01, 3.271e-01,\n",
       "        7.632e-02],\n",
       "       [1.411e+01, 1.288e+01, 9.003e+01, ..., 5.890e-02, 2.100e-01,\n",
       "        7.083e-02]])"
      ]
     },
     "execution_count": 49,
     "metadata": {},
     "output_type": "execute_result"
    }
   ],
   "source": [
    "Xtest = dfTest[dfTest.columns[1:]].values\n",
    "Xtest"
   ]
  },
  {
   "cell_type": "markdown",
   "id": "4b84125c",
   "metadata": {},
   "source": [
    "<h3>Loading The Coefficients</h3>"
   ]
  },
  {
   "cell_type": "markdown",
   "id": "376fbcbe",
   "metadata": {},
   "source": [
    "<h4>Loading Coefficients1 into W_1</h4>"
   ]
  },
  {
   "cell_type": "code",
   "execution_count": 50,
   "id": "810d5f3e",
   "metadata": {},
   "outputs": [
    {
     "name": "stdout",
     "output_type": "stream",
     "text": [
      "W_1:\n",
      "[-0.24051694 -1.28880728 -0.36962803 -0.12141193  0.01189173  0.04758857\n",
      "  0.21983976  0.32611402  0.13494155  0.08678048  0.01065719 -0.07070465\n",
      " -0.44975324 -0.27664928  0.10552783  0.00375172  0.04655467  0.06966227\n",
      "  0.0171825   0.01575658  0.00419185 -1.51903808  0.46308372  0.21284544\n",
      "  0.01968184  0.08338499  0.63301259  0.85841348  0.25692222  0.21309401\n",
      "  0.06045903]\n"
     ]
    }
   ],
   "source": [
    "W_1 = pd.read_csv('.\\External\\Coefficients\\Coefficients1.csv', header = None).values[:,0]\n",
    "print(\"W_1:\\n\" + str(W_1))"
   ]
  },
  {
   "cell_type": "markdown",
   "id": "315dd29e",
   "metadata": {},
   "source": [
    "<h4>Loading Coefficients2 into W_2</h4>"
   ]
  },
  {
   "cell_type": "code",
   "execution_count": 51,
   "id": "94687c0b",
   "metadata": {},
   "outputs": [
    {
     "name": "stdout",
     "output_type": "stream",
     "text": [
      "W_2:\n",
      "[-0.24905703 -1.28051636 -0.35943074 -0.11699259  0.00980262  0.04166949\n",
      "  0.23260228  0.33917977  0.13511828  0.07738392  0.0069529  -0.06492399\n",
      " -0.44184093 -0.27944314  0.08919083  0.00773273  0.03781426  0.08210222\n",
      "  0.01682068  0.01893739 -0.01471771 -1.51735691  0.46048118  0.21775737\n",
      "  0.01619036  0.08014986  0.611179    0.83697098  0.25988656  0.21811395\n",
      "  0.04032636]\n"
     ]
    }
   ],
   "source": [
    "W_2 = pd.read_csv('.\\External\\Coefficients\\Coefficients2.csv', header = None).values[:,0]\n",
    "print(\"W_2:\\n\" + str(W_2))"
   ]
  },
  {
   "cell_type": "markdown",
   "id": "1c578571",
   "metadata": {},
   "source": [
    "<h3>Functions</h3>"
   ]
  },
  {
   "cell_type": "code",
   "execution_count": 52,
   "id": "72b5c1f6",
   "metadata": {},
   "outputs": [],
   "source": [
    "def probabilisticLogRegClassifier(W, X):\n",
    "    \"\"\"\n",
    "    This Function\n",
    "    \"\"\"\n",
    "    return 1/(1+np.exp(-(X@W[1:] + W[0])))"
   ]
  },
  {
   "cell_type": "code",
   "execution_count": 53,
   "id": "28a32c5e",
   "metadata": {},
   "outputs": [],
   "source": [
    "def probabilisticLogRegClassifierForMatrix(W, X):\n",
    "    \"\"\"\n",
    "    This Function\n",
    "    \"\"\"\n",
    "    Y = []\n",
    "    for x in X:\n",
    "        Y.append(probabilisticLogRegClassifier(W, x))\n",
    "    return np.array(Y)"
   ]
  },
  {
   "cell_type": "code",
   "execution_count": 54,
   "id": "58e2cda4",
   "metadata": {},
   "outputs": [],
   "source": [
    "def finalClassification(prb_Ypredicted_equals_one, th):\n",
    "    if th > 1 or th < 0:\n",
    "        print(\"th should be 0<=th<=1\")\n",
    "        return\n",
    "    Y = []\n",
    "    for prb_y_is_one in prb_Ypredicted_equals_one:\n",
    "        Y.append(1.0 if prb_y_is_one >= th else 0.0)\n",
    "    return np.array(Y)"
   ]
  },
  {
   "cell_type": "code",
   "execution_count": 55,
   "id": "f64b0498",
   "metadata": {},
   "outputs": [],
   "source": [
    "def accuracy(actualY, predictedY):\n",
    "    \"\"\"\n",
    "    This Function\n",
    "    \"\"\"\n",
    "    return 100*(predictedY == actualY).mean()"
   ]
  },
  {
   "cell_type": "code",
   "execution_count": 56,
   "id": "a4e0eff7",
   "metadata": {},
   "outputs": [],
   "source": [
    "def printAccuracy(actualY, predictedY):\n",
    "    \"\"\"\n",
    "    This Function\n",
    "    \"\"\"\n",
    "    print(f'{accuracy(actualY, predictedY)}%')\n",
    "    return"
   ]
  },
  {
   "cell_type": "code",
   "execution_count": 57,
   "id": "6b2538e0",
   "metadata": {},
   "outputs": [],
   "source": [
    "def confusionMatrix(actualY, predictedY):\n",
    "    confusion_matrix = np.zeros([2, 2])\n",
    "    values = [0, 1]\n",
    "    for actual in values:\n",
    "        for pred in values:\n",
    "            confusion_matrix[actual, pred] = ((actualY == actual)*(predictedY == pred)).sum()\n",
    "    return confusion_matrix"
   ]
  },
  {
   "cell_type": "code",
   "execution_count": 58,
   "id": "e2545868",
   "metadata": {},
   "outputs": [],
   "source": [
    "def confusionMatrixWithThreshold(W, X, Y, th):\n",
    "    final_classification = finalClassification(probabilisticLogRegClassifier(W, X), th)\n",
    "    return confusionMatrix(Y, final_classification)"
   ]
  },
  {
   "cell_type": "code",
   "execution_count": 59,
   "id": "997acbb0",
   "metadata": {},
   "outputs": [],
   "source": [
    "def printConfusionMatrix(W, X, Y, th):\n",
    "    confusion_matrix = confusionMatrixWithThreshold(W, X, Y, th)\n",
    "    indexes = [0, 1]\n",
    "    confusion_matrix = pd.DataFrame(data = confusion_matrix, columns = indexes, index = indexes)\n",
    "    print(f'\\nConfusion Matrix with th={th}\\n{confusion_matrix}')\n",
    "    return"
   ]
  },
  {
   "cell_type": "code",
   "execution_count": 60,
   "id": "bd248121",
   "metadata": {},
   "outputs": [],
   "source": [
    "from sklearn.metrics import roc_curve, auc\n",
    "\n",
    "def drawROC(actualY, prob_y_is_one, title):\n",
    "    # Compute the false positive rate and true positive rate\n",
    "    fpr, tpr, _ = roc_curve(actualY,  prob_y_is_one)\n",
    "    # Compute the area under the curve\n",
    "    roc_auc = auc(fpr, tpr)\n",
    "    # Plot the ROC curve\n",
    "    plt.plot(fpr, tpr, color='darkorange', label='ROC curve\\n(area = %0.2f)' % roc_auc)\n",
    "    plt.xlim([-0.05, 1.0])\n",
    "    plt.ylim([0.0, 1.05])\n",
    "    plt.xlabel('FPR')\n",
    "    plt.ylabel('TPR')\n",
    "    plt.title(title)\n",
    "    plt.legend(loc=\"lower right\")\n",
    "    plt.show()\n",
    "    return"
   ]
  },
  {
   "cell_type": "markdown",
   "id": "00123519",
   "metadata": {},
   "source": [
    "<h2>Metrics For Train with Coefficients1</h2>"
   ]
  },
  {
   "cell_type": "code",
   "execution_count": 61,
   "id": "8ce9484b",
   "metadata": {},
   "outputs": [],
   "source": [
    "Y_probability_of_one = probabilisticLogRegClassifierForMatrix(W_1, Xtrain)\n",
    "# print(Y_probability_of_one)"
   ]
  },
  {
   "cell_type": "code",
   "execution_count": 62,
   "id": "d4cefc94",
   "metadata": {},
   "outputs": [],
   "source": [
    "th = 0.5\n",
    "Ypredict_train = finalClassification(Y_probability_of_one, th)\n",
    "# print(Ypredict_train)"
   ]
  },
  {
   "cell_type": "markdown",
   "id": "a65e8353",
   "metadata": {},
   "source": [
    "<h4>Accuracy</h4>"
   ]
  },
  {
   "cell_type": "code",
   "execution_count": 63,
   "id": "837d00d0",
   "metadata": {},
   "outputs": [
    {
     "name": "stdout",
     "output_type": "stream",
     "text": [
      "95.38461538461539%\n"
     ]
    }
   ],
   "source": [
    "printAccuracy(Ytrain, Ypredict_train)"
   ]
  },
  {
   "cell_type": "markdown",
   "id": "7b548e99",
   "metadata": {},
   "source": [
    "<h4>Confusion Matrix</h4>"
   ]
  },
  {
   "cell_type": "code",
   "execution_count": 64,
   "id": "eb239911",
   "metadata": {},
   "outputs": [
    {
     "name": "stdout",
     "output_type": "stream",
     "text": [
      "\n",
      "Confusion Matrix with th=0.5\n",
      "       0      1\n",
      "0  281.0    8.0\n",
      "1   13.0  153.0\n"
     ]
    }
   ],
   "source": [
    "printConfusionMatrix(W_1, Xtrain, Ytrain, th)"
   ]
  },
  {
   "cell_type": "markdown",
   "id": "4403ce26",
   "metadata": {},
   "source": [
    "<h4>ROC</h4>"
   ]
  },
  {
   "cell_type": "code",
   "execution_count": 65,
   "id": "dd902d23",
   "metadata": {},
   "outputs": [
    {
     "data": {
      "image/png": "[encoded data removed]",
      "text/plain": [
       "<Figure size 640x480 with 1 Axes>"
      ]
     },
     "metadata": {},
     "output_type": "display_data"
    }
   ],
   "source": [
    "drawROC(Ytrain, Y_probability_of_one, 'ROC of Train Data with Coefficients1')"
   ]
  },
  {
   "cell_type": "markdown",
   "id": "3a468650",
   "metadata": {},
   "source": [
    "<h2>Metrics For Test with Coefficients1</h2>"
   ]
  },
  {
   "cell_type": "code",
   "execution_count": 66,
   "id": "29cfa5d7",
   "metadata": {},
   "outputs": [],
   "source": [
    "Y_probability_of_one = probabilisticLogRegClassifierForMatrix(W_1, Xtest)\n",
    "# print(Y_probability_of_one)"
   ]
  },
  {
   "cell_type": "code",
   "execution_count": 67,
   "id": "3d99aeed",
   "metadata": {},
   "outputs": [],
   "source": [
    "th = 0.5\n",
    "Ypredict_test = finalClassification(Y_probability_of_one, th)\n",
    "# print(Ypredict_test)"
   ]
  },
  {
   "cell_type": "markdown",
   "id": "d08bc1f9",
   "metadata": {},
   "source": [
    "<h4>Accuracy</h4>"
   ]
  },
  {
   "cell_type": "code",
   "execution_count": 68,
   "id": "0b217984",
   "metadata": {},
   "outputs": [
    {
     "name": "stdout",
     "output_type": "stream",
     "text": [
      "93.85964912280701%\n"
     ]
    }
   ],
   "source": [
    "printAccuracy(Ytest, Ypredict_test)"
   ]
  },
  {
   "cell_type": "markdown",
   "id": "09e31524",
   "metadata": {},
   "source": [
    "<h4>Confusion Matrix</h4>"
   ]
  },
  {
   "cell_type": "code",
   "execution_count": 69,
   "id": "7175bdfb",
   "metadata": {},
   "outputs": [
    {
     "name": "stdout",
     "output_type": "stream",
     "text": [
      "\n",
      "Confusion Matrix with th=0.5\n",
      "      0     1\n",
      "0  66.0   2.0\n",
      "1   5.0  41.0\n"
     ]
    }
   ],
   "source": [
    "printConfusionMatrix(W_1, Xtest, Ytest, th)"
   ]
  },
  {
   "cell_type": "markdown",
   "id": "bf737bf0",
   "metadata": {},
   "source": [
    "<h4>ROC</h4>"
   ]
  },
  {
   "cell_type": "code",
   "execution_count": 70,
   "id": "cded13ef",
   "metadata": {
    "scrolled": false
   },
   "outputs": [
    {
     "data": {
      "image/png": "[encoded data removed]",
      "text/plain": [
       "<Figure size 640x480 with 1 Axes>"
      ]
     },
     "metadata": {},
     "output_type": "display_data"
    }
   ],
   "source": [
    "drawROC(Ytest, Y_probability_of_one, 'ROC of Test Data with Coefficients1')"
   ]
  },
  {
   "cell_type": "markdown",
   "id": "a8c96e68",
   "metadata": {},
   "source": [
    "--------------------------------------------"
   ]
  },
  {
   "cell_type": "markdown",
   "id": "64d042a1",
   "metadata": {},
   "source": [
    "<h2>Metrics For Train with Coefficients2</h2>"
   ]
  },
  {
   "cell_type": "code",
   "execution_count": 71,
   "id": "d61b3a45",
   "metadata": {},
   "outputs": [],
   "source": [
    "Y_probability_of_one = probabilisticLogRegClassifierForMatrix(W_2, Xtrain)\n",
    "# print(Y_probability_of_one)"
   ]
  },
  {
   "cell_type": "code",
   "execution_count": 72,
   "id": "9e432494",
   "metadata": {},
   "outputs": [],
   "source": [
    "th = 0.5\n",
    "Ypredict_train = finalClassification(Y_probability_of_one, th)\n",
    "# print(Ypredict_train)"
   ]
  },
  {
   "cell_type": "markdown",
   "id": "ec0119fc",
   "metadata": {},
   "source": [
    "<h4>Accuracy</h4>"
   ]
  },
  {
   "cell_type": "code",
   "execution_count": 73,
   "id": "a01c313c",
   "metadata": {},
   "outputs": [
    {
     "name": "stdout",
     "output_type": "stream",
     "text": [
      "89.01098901098901%\n"
     ]
    }
   ],
   "source": [
    "printAccuracy(Ytrain, Ypredict_train)"
   ]
  },
  {
   "cell_type": "markdown",
   "id": "5446b569",
   "metadata": {},
   "source": [
    "<h4>Confusion Matrix</h4>"
   ]
  },
  {
   "cell_type": "code",
   "execution_count": 74,
   "id": "fd756d42",
   "metadata": {},
   "outputs": [
    {
     "name": "stdout",
     "output_type": "stream",
     "text": [
      "\n",
      "Confusion Matrix with th=0.5\n",
      "       0      1\n",
      "0  289.0    0.0\n",
      "1   50.0  116.0\n"
     ]
    }
   ],
   "source": [
    "printConfusionMatrix(W_2, Xtrain, Ytrain, th)"
   ]
  },
  {
   "cell_type": "markdown",
   "id": "5350b1ac",
   "metadata": {},
   "source": [
    "<h4>ROC</h4>"
   ]
  },
  {
   "cell_type": "code",
   "execution_count": 75,
   "id": "8258eadb",
   "metadata": {
    "scrolled": false
   },
   "outputs": [
    {
     "data": {
      "image/png": "[encoded data removed]",
      "text/plain": [
       "<Figure size 640x480 with 1 Axes>"
      ]
     },
     "metadata": {},
     "output_type": "display_data"
    }
   ],
   "source": [
    "drawROC(Ytrain, Y_probability_of_one, 'ROC of Train Data with Coefficients2')"
   ]
  },
  {
   "cell_type": "markdown",
   "id": "f5a9acc3",
   "metadata": {},
   "source": [
    "<h2>Metrics For Test with Coefficients2</h2>"
   ]
  },
  {
   "cell_type": "code",
   "execution_count": 76,
   "id": "cc8b42bb",
   "metadata": {},
   "outputs": [],
   "source": [
    "Y_probability_of_one = probabilisticLogRegClassifierForMatrix(W_2, Xtest)\n",
    "# print(Y_probability_of_one)"
   ]
  },
  {
   "cell_type": "code",
   "execution_count": 77,
   "id": "d9323fea",
   "metadata": {},
   "outputs": [],
   "source": [
    "th = 0.5\n",
    "Ypredict_test = finalClassification(Y_probability_of_one, th)\n",
    "# print(Ypredict_test)"
   ]
  },
  {
   "cell_type": "markdown",
   "id": "b2b7d652",
   "metadata": {},
   "source": [
    "<h4>Accuracy</h4>"
   ]
  },
  {
   "cell_type": "code",
   "execution_count": 78,
   "id": "e1bf0a9b",
   "metadata": {},
   "outputs": [
    {
     "name": "stdout",
     "output_type": "stream",
     "text": [
      "86.8421052631579%\n"
     ]
    }
   ],
   "source": [
    "printAccuracy(Ytest, Ypredict_test)"
   ]
  },
  {
   "cell_type": "markdown",
   "id": "5a034ba1",
   "metadata": {},
   "source": [
    "<h4>Confusion Matrix</h4>"
   ]
  },
  {
   "cell_type": "code",
   "execution_count": 79,
   "id": "32891c3e",
   "metadata": {},
   "outputs": [
    {
     "name": "stdout",
     "output_type": "stream",
     "text": [
      "\n",
      "Confusion Matrix with th=0.5\n",
      "      0     1\n",
      "0  68.0   0.0\n",
      "1  15.0  31.0\n"
     ]
    }
   ],
   "source": [
    "printConfusionMatrix(W_2, Xtest, Ytest, th)"
   ]
  },
  {
   "cell_type": "markdown",
   "id": "2056bbe9",
   "metadata": {},
   "source": [
    "<h4>ROC</h4>"
   ]
  },
  {
   "cell_type": "code",
   "execution_count": 80,
   "id": "9b13dd10",
   "metadata": {
    "scrolled": false
   },
   "outputs": [
    {
     "data": {
      "image/png": "[encoded data removed]",
      "text/plain": [
       "<Figure size 640x480 with 1 Axes>"
      ]
     },
     "metadata": {},
     "output_type": "display_data"
    }
   ],
   "source": [
    "drawROC(Ytest, Y_probability_of_one, 'ROC of Test Data with Coefficients2')"
   ]
  }
 ],
 "metadata": {
  "kernelspec": {
   "display_name": "Python 3.9.13 ('base')",
   "language": "python",
   "name": "python3"
  },
  "language_info": {
   "codemirror_mode": {
    "name": "ipython",
    "version": 3
   },
   "file_extension": ".py",
   "mimetype": "text/x-python",
   "name": "python",
   "nbconvert_exporter": "python",
   "pygments_lexer": "ipython3",
   "version": "3.9.13"
  },
  "vscode": {
   "interpreter": {
    "hash": "a077222d77dfe082b8f1dd562ad70e458ac2ab76993a0b248ab0476e32e9e8dd"
   }
  }
 },
 "nbformat": 4,
 "nbformat_minor": 5
}
