{
 "cells": [
  {
   "cell_type": "markdown",
   "id": "4b9ef576",
   "metadata": {},
   "source": [
    "<h1 style=\"text-align: center; font-size: 500%; text-decoration: underline;\">Concluding Assignment<h1>\n",
    "<h2 style=\"text-align: center; font-size: 250%;\">Ido Israeli (ID - 212432439)<br>Jonathan Derhy (ID - 315856377)<h2>\n",
    "<h2 style=\"text-align: center; font-size: 400%; text-decoration: underline;\">Part II<h2>"
   ]
  },
  {
   "cell_type": "markdown",
   "id": "93ae6a45",
   "metadata": {},
   "source": [
    "<h3 style=\"text-decoration: underline;\">Imports<h3>"
   ]
  },
  {
   "cell_type": "code",
   "execution_count": 885,
   "id": "ab17cac3",
   "metadata": {},
   "outputs": [],
   "source": [
    "import numpy as np\n",
    "import pandas as pd\n",
    "import math\n",
    "import warnings\n",
    "warnings.filterwarnings('ignore')\n",
    "import matplotlib.pyplot as plt"
   ]
  },
  {
   "cell_type": "markdown",
   "id": "93ae6a45",
   "metadata": {},
   "source": [
    "<h3 style=\"text-decoration: underline;\">Part A: Preparing the data to train a linear classifier<h3>"
   ]
  }
 ],
 "metadata": {
  "kernelspec": {
   "display_name": "Python 3.9.13 ('base')",
   "language": "python",
   "name": "python3"
  },
  "language_info": {
   "codemirror_mode": {
    "name": "ipython",
    "version": 3
   },
   "file_extension": ".py",
   "mimetype": "text/x-python",
   "name": "python",
   "nbconvert_exporter": "python",
   "pygments_lexer": "ipython3",
   "version": "3.9.13"
  },
  "vscode": {
   "interpreter": {
    "hash": "a077222d77dfe082b8f1dd562ad70e458ac2ab76993a0b248ab0476e32e9e8dd"
   }
  }
 },
 "nbformat": 4,
 "nbformat_minor": 5
}
