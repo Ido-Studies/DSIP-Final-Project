{
 "cells": [
  {
   "cell_type": "markdown",
   "id": "0529db9d",
   "metadata": {},
   "source": [
    "<h1 style=\"text-align: center; font-size: 450%; text-decoration: underline;\">Home Assignment 4 - Fifth Question</h1>\n",
    "<h2 style=\"text-align: center; font-size: 350%;\">Ido Israeli (ID - 212432439)</h2>"
   ]
  },
  {
   "cell_type": "markdown",
   "id": "f23c4913",
   "metadata": {},
   "source": [
    "<h2>KNN</h2>"
   ]
  },
  {
   "cell_type": "markdown",
   "id": "5f48c706",
   "metadata": {},
   "source": [
    "<h3>imports</h3>"
   ]
  },
  {
   "cell_type": "code",
   "execution_count": 1747,
   "id": "809344fa",
   "metadata": {},
   "outputs": [],
   "source": [
    "import numpy as np\n",
    "import pandas as pd\n",
    "import math\n",
    "import warnings\n",
    "warnings.filterwarnings('ignore')\n",
    "import matplotlib.pyplot as plt"
   ]
  },
  {
   "cell_type": "markdown",
   "id": "317d1438",
   "metadata": {},
   "source": [
    "<h3>Functions</h3>"
   ]
  },
  {
   "cell_type": "markdown",
   "id": "81b2e6dc",
   "metadata": {},
   "source": [
    "<h4>Functions for Debugging</h4>"
   ]
  },
  {
   "cell_type": "code",
   "execution_count": 1748,
   "id": "aeef9bc8",
   "metadata": {},
   "outputs": [],
   "source": [
    "#\n",
    "def print_variable_data(variable, name=None):\n",
    "    if not isinstance(name, str):\n",
    "        name = \"Unnamed Variable\"\n",
    "    print(f'-------------------{name}-------------------\\n')\n",
    "    print(f'Type: {type(variable)}')\n",
    "    if isinstance(variable, np.ndarray): print(f'Shape: {variable.shape}')\n",
    "    elif isinstance(variable, list): print(f'Shape: {variable.size}')\n",
    "    print(f'contents:\\n{variable}')\n",
    "    print(\"\\n--------------------------------------\\n\")\n"
   ]
  },
  {
   "cell_type": "markdown",
   "id": "81b2e6dc",
   "metadata": {},
   "source": [
    "<h4>Functions for Selecting Train and Test Data</h4>"
   ]
  },
  {
   "cell_type": "code",
   "execution_count": 1749,
   "id": "3a696311",
   "metadata": {},
   "outputs": [],
   "source": [
    "#\n",
    "def shuffle_dataframe(df):\n",
    "    return df.sample(frac=1)\n",
    "\n",
    "#\n",
    "def select_train_and_test_by_train_percentage(df, train_percentage):\n",
    "    if not isinstance(df, pd.DataFrame):\n",
    "        print(f'ERROR!\\nArgument must be an instance of pandas.DataFrame!')\n",
    "        return -1\n",
    "    train = df.sample(frac=train_percentage)\n",
    "    test = df.drop(train.index)\n",
    "    return train, test"
   ]
  },
  {
   "cell_type": "markdown",
   "id": "81b2e6dc",
   "metadata": {},
   "source": [
    "<h4>Functions for Data Format Manipulation</h4>"
   ]
  },
  {
   "cell_type": "code",
   "execution_count": 1750,
   "id": "9f29f09e",
   "metadata": {},
   "outputs": [],
   "source": [
    "#\n",
    "def get_dictionary_from_1darray(keys):\n",
    "    dictio = {}\n",
    "    dictio.update({key:0 for key in keys})\n",
    "    return dictio\n",
    "\n",
    "#\n",
    "def get_ndarray_from_dataframe(df):\n",
    "    # return df[df.columns[:]].values\n",
    "    return np.array(df)\n",
    "\n",
    "#\n",
    "def get_features_and_classification(entry):\n",
    "    \"\"\"\n",
    "    Separates the features of an entry from its classification, assuming the classification is found at the last index.\n",
    "\n",
    "    :param entry: An entry of an instance that includes both the features and the classification.\n",
    "\n",
    "    :return: A tuple of the features at index 0 and the classification at index 1.\n",
    "    \"\"\"\n",
    "    features = entry[:-1]\n",
    "    classification = entry[-1]\n",
    "    return features, classification\n",
    "\n",
    "#\n",
    "def separate_features_and_classifications_for_dataframe(df):\n",
    "    \"\"\"\n",
    "    Separates the features of all the entries in a dataframe from their respective classification.\n",
    "    Assumes that the classification is found at the last index of every row.\n",
    "\n",
    "    :param df: A pandas.DataFrame that holds entries with both features and classifications.\n",
    "\n",
    "    :return: A tuple of the features at index 0 and the classifications at index 1.\n",
    "\n",
    "    :error: returns -1 if argument df is not an instance of pandas.DataFrame\n",
    "    \"\"\"\n",
    "    if not isinstance(df, pd.DataFrame):\n",
    "        print(f'ERROR!\\nArgument must be an instance of pandas.DataFrame!')\n",
    "        return -1\n",
    "    features = df[df.columns[:-1]].values\n",
    "    classifications = df[df.columns[-1]].values\n",
    "    return features, classifications\n",
    "\n",
    "#\n",
    "def separate_features_and_classifications_for_ndarray(arr):\n",
    "    \"\"\"\n",
    "    Separates the features of all the entries in an ndarray from their respective classification.\n",
    "    Assumes that the classification is found at the last index of every row.\n",
    "\n",
    "    :param arr: A numpy.ndarray that holds entries with both features and classifications.\n",
    "\n",
    "    :return: A tuple of the features at index 0 and the classifications at index 1.\n",
    "    \n",
    "    :error: returns -1 if argument arr is not an instance of numpy.ndarray\n",
    "    \"\"\"\n",
    "    if not isinstance(arr, np.ndarray):\n",
    "        print(f'ERROR!\\nArgument must be an instance of numpy.ndarray!')\n",
    "        return -1\n",
    "    features = arr[:, :-1]\n",
    "    classifications = arr[:, -1]\n",
    "    return features, classifications\n",
    "\n",
    "#\n",
    "def separate_features_and_classifications_for_df_or_ndarray(table):\n",
    "    \"\"\"\n",
    "    Separates the features of all the entries in a table from their respective classification.\n",
    "    Assumes that the classification is found at the last index of every row.\n",
    "\n",
    "    :param table: A numpy.ndarray or a pandas.DataFrame that holds entries with both features and classifications.\n",
    "\n",
    "    :return: A tuple of the features at index 0 and the classifications at index 1.\n",
    "    \n",
    "    :error: returns -1 if argument table is not an instance of either numpy.ndarray or pandas.DataFrame\n",
    "    \"\"\"\n",
    "    if isinstance(table, np.ndarray):\n",
    "        return separate_features_and_classifications_for_ndarray(table)\n",
    "    if isinstance(table, pd.DataFrame):\n",
    "        return separate_features_and_classifications_for_dataframe(table)\n",
    "    print(f'ERROR!\\nArgument must be an instance of either numpy.ndarray or pandas.DataFrame !')\n",
    "    return -1\n"
   ]
  },
  {
   "cell_type": "markdown",
   "id": "81b2e6dc",
   "metadata": {},
   "source": [
    "<h4>Functions for Distance Calculation</h4>"
   ]
  },
  {
   "cell_type": "code",
   "execution_count": 1751,
   "id": "e5d7ebc1",
   "metadata": {},
   "outputs": [],
   "source": [
    "#\n",
    "def euclidean_distance(p, q):\n",
    "    \"\"\"\n",
    "    Calculates the euclidean distance between two points of the same number of dimensions.\n",
    "\n",
    "    :param p: A point of n dimensions.\n",
    "    :param q: A point of n dimensions.\n",
    "\n",
    "    :return: The euclidean distance between point p and point q.\n",
    "    \"\"\"\n",
    "    if not (isinstance(p, np.ndarray) and isinstance(q, np.ndarray)): return -1\n",
    "    if p.ndim != 1 or q.ndim != 1: return -1\n",
    "    if p.size != q.size: return -1\n",
    "\n",
    "    dist = math.sqrt(np.square(np.subtract(q, p)).sum())\n",
    "    return dist\n",
    "\n",
    "#\n",
    "def calc_euclidean_distances(p, points):\n",
    "    \"\"\"\n",
    "    Calculates the euclidean distances between a point and multiple other points.\n",
    "\n",
    "    :param p: A point of n dimensions.\n",
    "    :param points: An array of points, each of n dimensions.\n",
    "\n",
    "    :return: An array that contains the distance between the point p and each point in points.\n",
    "    \"\"\"\n",
    "    return np.array([euclidean_distance(p, point) for point in points])\n"
   ]
  },
  {
   "cell_type": "markdown",
   "id": "81b2e6dc",
   "metadata": {},
   "source": [
    "<h4>Functions for Classifying Data</h4>"
   ]
  },
  {
   "cell_type": "code",
   "execution_count": 1752,
   "id": "e6cd80cf",
   "metadata": {},
   "outputs": [],
   "source": [
    "#\n",
    "def get_indices_of_k_smallest(k, arr):\n",
    "    \"\"\"\n",
    "    Finds the indices of the k smallest elements in an array.\n",
    "\n",
    "    :param k: The number of smallest elements to find.\n",
    "    :param arr: An array.\n",
    "\n",
    "    :return: An unsorted array that contains the indices of the k smallest elements in arr.\n",
    "    \"\"\"\n",
    "    if k < 0 or not isinstance(arr, np.ndarray): return -1\n",
    "    if arr.ndim != 1: return -1\n",
    "    if k > arr.size: return -1\n",
    "    if k == arr.size: return np.arange(k)\n",
    "    return np.argpartition(arr, k)[:k]\n",
    "\n",
    "#\n",
    "def most_common_amongst_indices(indices, arr):\n",
    "    \"\"\"\n",
    "    Finds the most common element amongst specified indices of an array.\n",
    "\n",
    "    :param indices: An array of indices to account for in the array.\n",
    "    :param arr: An array.\n",
    "\n",
    "    :return: The most common element found within the specified indices of the array arr.\n",
    "    \"\"\"\n",
    "    in_indices = [arr[idx] for idx in indices if idx>=0 and idx<arr.size]\n",
    "    return max(set(in_indices), key = in_indices.count)\n",
    "\n",
    "#\n",
    "def most_common_amongst_indices2(indices, arr):\n",
    "    \"\"\"\n",
    "    Finds the most common element amongst specified indices of an array.\n",
    "    Utilizes a little less efficient and less pretty, yet more simple way of achieving that.\n",
    "\n",
    "    :param indices: An array of indices to account for in the array.\n",
    "    :param arr: An array.\n",
    "\n",
    "    :return: The most common element found within the specified indices of the array arr.\n",
    "    \"\"\"\n",
    "    in_indices = []\n",
    "    for idx in indices:\n",
    "        if idx>=0 and idx<arr.size:\n",
    "            in_indices.append(arr[idx])\n",
    "    return max(set(in_indices), key = in_indices.count)\n"
   ]
  },
  {
   "cell_type": "markdown",
   "id": "81b2e6dc",
   "metadata": {},
   "source": [
    "<h4>Functions for the KNN Bigger Picture</h4>"
   ]
  },
  {
   "cell_type": "code",
   "execution_count": 1753,
   "id": "2829ba4b",
   "metadata": {},
   "outputs": [],
   "source": [
    "#\n",
    "def KNN_classification_for_single_entry(entry, table, k):\n",
    "    \"\"\"\n",
    "    Classifies a single entry using KNN, based on pre-classified examples.\n",
    "\n",
    "    :param entry: An instance to classify.\n",
    "    :param table: A numpy.ndarray or a pandas.DataFrame of pre-classified examples.\n",
    "    :param k: The number of the nearest neighbors to take into an account when classifing.\n",
    "\n",
    "    :return: The KNN classification for the entry.\n",
    "\n",
    "    :error: returns -1 if argument table is not an instance of either numpy.ndarray or pandas.DataFrame\n",
    "    \"\"\"\n",
    "    examples_features, examples_classifications = separate_features_and_classifications_for_df_or_ndarray(table)\n",
    "    classification = most_common_amongst_indices(get_indices_of_k_smallest(k, calc_euclidean_distances(entry, examples_features)), examples_classifications)\n",
    "    return classification\n",
    "\n",
    "#\n",
    "def KNN_classification_for_multiple_entries(entries, examples, k):\n",
    "    classifications = np.array([KNN_classification_for_single_entry(entry, examples, k) for entry in entries])\n",
    "    return classifications\n",
    "\n",
    "#\n",
    "def classify_entries_using_KNN(entries, examples, k):\n",
    "    classified_instances = np.c_[entries, KNN_classification_for_multiple_entries(entries, examples, k)]\n",
    "    return classified_instances\n"
   ]
  },
  {
   "cell_type": "markdown",
   "id": "81b2e6dc",
   "metadata": {},
   "source": [
    "<h4>Functions for Accuracy Calculations</h4>"
   ]
  },
  {
   "cell_type": "code",
   "execution_count": 1754,
   "id": "48af282f",
   "metadata": {},
   "outputs": [],
   "source": [
    "#\n",
    "def KNN_decimal_accuracy(KNN_classified, original_classified):\n",
    "    return (KNN_classified[:, -1] == original_classified[:, -1]).mean()\n",
    "\n",
    "#\n",
    "def KNN_percentage_accuracy(KNN_classified, original_classified):\n",
    "    return 100*(KNN_classified[:, -1] == original_classified[:, -1]).mean()\n",
    "\n",
    "#\n",
    "def get_indices_of_max_accuracy(accuracies):\n",
    "    max_accuracy = accuracies.max()\n",
    "    return np.where(accuracies == max_accuracy)"
   ]
  },
  {
   "cell_type": "markdown",
   "id": "81b2e6dc",
   "metadata": {},
   "source": [
    "<h4>Functions for Classification and Accuracy Combined</h4>"
   ]
  },
  {
   "cell_type": "code",
   "execution_count": 1755,
   "id": "f902e684",
   "metadata": {},
   "outputs": [],
   "source": [
    "#\n",
    "def KNN_classify_and_check_accuracy(entries, examples, k, accuracy_reference=None):\n",
    "    classified_instances = classify_entries_using_KNN(entries, examples, k)\n",
    "    if accuracy_reference is None:\n",
    "        accuracy_reference = examples\n",
    "    accuracy = KNN_percentage_accuracy(classified_instances, accuracy_reference)\n",
    "    return accuracy, classified_instances\n",
    "\n",
    "# a rather slow function - a lot of computations and iterations needed\n",
    "def KNN_accuracies_for_range_of_k(entries, examples, k_values, accuracy_reference=None):\n",
    "    if accuracy_reference is None:\n",
    "        accuracy_reference = examples\n",
    "    accuracies = np.array([KNN_classify_and_check_accuracy(entries, examples, k, accuracy_reference)[0] for k in k_values])\n",
    "    return accuracies"
   ]
  },
  {
   "cell_type": "markdown",
   "id": "81b2e6dc",
   "metadata": {},
   "source": [
    "<h4>Functions for Average Across Multiple Randomizations of Train and Test</h4>"
   ]
  },
  {
   "cell_type": "code",
   "execution_count": 1756,
   "id": "0a7b29d3",
   "metadata": {},
   "outputs": [],
   "source": [
    "# an incredibly slow function (probably inefficient) - takes about 4 minutes on my computer when number_of_randomizations = 100 !!!\n",
    "def average_accuracies_for_multiple_randomized_train_and_test(df, train_part_deciaml, k_values, number_of_randomizations):\n",
    "    train_avg_accuracies = np.zeros(k_values.size)\n",
    "    test_avg_accuracies = np.zeros(k_values.size)\n",
    "    train_times_k_was_max_accuracy = get_dictionary_from_1darray(k_values)\n",
    "    test_times_k_was_max_accuracy = get_dictionary_from_1darray(k_values)\n",
    "    \n",
    "    for i in range(number_of_randomizations):\n",
    "        train, test = map(np.array, select_train_and_test_by_train_percentage(df, train_part_deciaml))\n",
    "        train_accuracies = KNN_accuracies_for_range_of_k(train[:, :-1], train, k_values)\n",
    "        test_accuracies = KNN_accuracies_for_range_of_k(test[:, :-1], train, k_values, test)\n",
    "        train_times_k_was_max_accuracy.update({k:train_times_k_was_max_accuracy[k]+1 for k in k_values[get_indices_of_max_accuracy(train_accuracies)]})\n",
    "        test_times_k_was_max_accuracy.update({k:test_times_k_was_max_accuracy[k]+1 for k in k_values[get_indices_of_max_accuracy(test_accuracies)]})\n",
    "        train_avg_accuracies = np.add(train_avg_accuracies, train_accuracies)\n",
    "        test_avg_accuracies = np.add(test_avg_accuracies, test_accuracies)\n",
    "\n",
    "    return (\n",
    "        train_avg_accuracies/number_of_randomizations,\n",
    "        test_avg_accuracies/number_of_randomizations,\n",
    "        find_most_accurate_k(train_times_k_was_max_accuracy, number_of_randomizations),\n",
    "        find_most_accurate_k(test_times_k_was_max_accuracy, number_of_randomizations)\n",
    "        )\n",
    "\n",
    "#\n",
    "def find_most_accurate_k(times_k_was_max_accuracy, total_times_checked):\n",
    "    max_val = max(times_k_was_max_accuracy.values())\n",
    "    return np.array([k for k in times_k_was_max_accuracy if times_k_was_max_accuracy[k]==max_val]), 100*(max_val/total_times_checked)"
   ]
  },
  {
   "cell_type": "markdown",
   "id": "81b2e6dc",
   "metadata": {},
   "source": [
    "<h4>Functions for Visualizing Results</h4>"
   ]
  },
  {
   "cell_type": "code",
   "execution_count": 1757,
   "id": "f68b006d",
   "metadata": {},
   "outputs": [],
   "source": [
    "#\n",
    "def print_accuracy_per_k(accuracies, k_values, accuracy_of_what=None):\n",
    "    print(\"----------------------------------\")\n",
    "    if isinstance(accuracy_of_what, str): print(f'Accuracy of {accuracy_of_what} per K:\\n')\n",
    "    for accuracy, k in zip(accuracies, k_values):\n",
    "        accuracy = int(accuracy) if accuracy.is_integer() else round(accuracy, 4)\n",
    "        print(f'for K={k}, there is {accuracy}% accuracy.')\n",
    "    print(\"----------------------------------\")\n",
    "\n",
    "#\n",
    "def print_best_ks_on_average(best_ks, percentage):\n",
    "    print(f'On average the best K values were:')\n",
    "    for k in best_ks: print(f'K={k}')\n",
    "    percentage = int(percentage) if percentage.is_integer() else round(percentage, 4)\n",
    "    print(f'being the K values with the highest accuracy roughly {percentage}% of the times.')\n",
    "\n",
    "#\n",
    "def graph_accuracies_of_train_and_test_over_k(train_accuracies, test_accuracies, k_arr):\n",
    "    fig = plt.figure()\n",
    "    ax = plt.subplot(111)\n",
    "\n",
    "    plt.plot(k_arr, train_accuracies, color='darkorange', label=\"Accuracy of train\", marker='o')\n",
    "    plt.plot(k_arr, test_accuracies, color='blue', label=\"Accuracy of test\", marker='o')\n",
    "    indices_of_max_train = get_indices_of_max_accuracy(train_accuracies)\n",
    "    indices_of_max_test = get_indices_of_max_accuracy(test_accuracies)\n",
    "    plt.plot(k_arr[indices_of_max_train], train_accuracies[indices_of_max_train], 'o', color='red')\n",
    "    plt.plot(k_arr[indices_of_max_test], test_accuracies[indices_of_max_test], 'o', color='red')\n",
    "    # plt.plot(np.take(k_arr, indices_of_max_test), np.take(test_accuracies, indices_of_max_test), 'o', color='red')\n",
    "    # plt.vlines(x = np.take(k_arr, list(set(np.append(indices_of_max_train, indices_of_max_test)))), ymin = 0, ymax = 101, colors = 'red', ls = '--')\n",
    "    # plt.vlines(x = k_arr[np.unique([indices_of_max_train, indices_of_max_test])], ymin = 0, ymax = 101, colors = 'red', ls = '--')\n",
    "    plt.vlines(x = k_arr[indices_of_max_train], ymin = 0, ymax = 101, colors = 'red', ls = '--')\n",
    "    plt.vlines(x = k_arr[indices_of_max_test], ymin = 0, ymax = 101, colors = 'red', ls = '--')\n",
    "    plt.xticks(k_arr)\n",
    "    plt.yticks(np.arange(0, 101, 5))\n",
    "\n",
    "    box = ax.get_position()\n",
    "    ax.set_position([box.x0, box.y0, box.width*1.5, box.height*1.5])\n",
    "    ax.legend(loc='center left', bbox_to_anchor=(1, 0.5))\n",
    "\n",
    "    plt.xlabel(f'K')\n",
    "    plt.ylabel(f'Accuracy')\n",
    "    plt.title(f'Accuracies of train and test as a function of K')\n",
    "\n",
    "    plt.show()\n",
    "    return"
   ]
  },
  {
   "cell_type": "markdown",
   "id": "9d03cc26",
   "metadata": {},
   "source": [
    "<h3>Data Extraction</h3>"
   ]
  },
  {
   "cell_type": "code",
   "execution_count": 1758,
   "id": "e523dff7",
   "metadata": {},
   "outputs": [
    {
     "data": {
      "text/html": [
       "<div>\n",
       "<style scoped>\n",
       "    .dataframe tbody tr th:only-of-type {\n",
       "        vertical-align: middle;\n",
       "    }\n",
       "\n",
       "    .dataframe tbody tr th {\n",
       "        vertical-align: top;\n",
       "    }\n",
       "\n",
       "    .dataframe thead th {\n",
       "        text-align: right;\n",
       "    }\n",
       "</style>\n",
       "<table border=\"1\" class=\"dataframe\">\n",
       "  <thead>\n",
       "    <tr style=\"text-align: right;\">\n",
       "      <th></th>\n",
       "      <th>sepal_length</th>\n",
       "      <th>sepal_width</th>\n",
       "      <th>petal_length</th>\n",
       "      <th>petal_width</th>\n",
       "      <th>species</th>\n",
       "    </tr>\n",
       "  </thead>\n",
       "  <tbody>\n",
       "    <tr>\n",
       "      <th>0</th>\n",
       "      <td>5.1</td>\n",
       "      <td>3.5</td>\n",
       "      <td>1.4</td>\n",
       "      <td>0.2</td>\n",
       "      <td>setosa</td>\n",
       "    </tr>\n",
       "    <tr>\n",
       "      <th>1</th>\n",
       "      <td>4.9</td>\n",
       "      <td>3.0</td>\n",
       "      <td>1.4</td>\n",
       "      <td>0.2</td>\n",
       "      <td>setosa</td>\n",
       "    </tr>\n",
       "    <tr>\n",
       "      <th>2</th>\n",
       "      <td>4.7</td>\n",
       "      <td>3.2</td>\n",
       "      <td>1.3</td>\n",
       "      <td>0.2</td>\n",
       "      <td>setosa</td>\n",
       "    </tr>\n",
       "    <tr>\n",
       "      <th>3</th>\n",
       "      <td>4.6</td>\n",
       "      <td>3.1</td>\n",
       "      <td>1.5</td>\n",
       "      <td>0.2</td>\n",
       "      <td>setosa</td>\n",
       "    </tr>\n",
       "    <tr>\n",
       "      <th>4</th>\n",
       "      <td>5.0</td>\n",
       "      <td>3.6</td>\n",
       "      <td>1.4</td>\n",
       "      <td>0.2</td>\n",
       "      <td>setosa</td>\n",
       "    </tr>\n",
       "    <tr>\n",
       "      <th>...</th>\n",
       "      <td>...</td>\n",
       "      <td>...</td>\n",
       "      <td>...</td>\n",
       "      <td>...</td>\n",
       "      <td>...</td>\n",
       "    </tr>\n",
       "    <tr>\n",
       "      <th>145</th>\n",
       "      <td>6.7</td>\n",
       "      <td>3.0</td>\n",
       "      <td>5.2</td>\n",
       "      <td>2.3</td>\n",
       "      <td>virginica</td>\n",
       "    </tr>\n",
       "    <tr>\n",
       "      <th>146</th>\n",
       "      <td>6.3</td>\n",
       "      <td>2.5</td>\n",
       "      <td>5.0</td>\n",
       "      <td>1.9</td>\n",
       "      <td>virginica</td>\n",
       "    </tr>\n",
       "    <tr>\n",
       "      <th>147</th>\n",
       "      <td>6.5</td>\n",
       "      <td>3.0</td>\n",
       "      <td>5.2</td>\n",
       "      <td>2.0</td>\n",
       "      <td>virginica</td>\n",
       "    </tr>\n",
       "    <tr>\n",
       "      <th>148</th>\n",
       "      <td>6.2</td>\n",
       "      <td>3.4</td>\n",
       "      <td>5.4</td>\n",
       "      <td>2.3</td>\n",
       "      <td>virginica</td>\n",
       "    </tr>\n",
       "    <tr>\n",
       "      <th>149</th>\n",
       "      <td>5.9</td>\n",
       "      <td>3.0</td>\n",
       "      <td>5.1</td>\n",
       "      <td>1.8</td>\n",
       "      <td>virginica</td>\n",
       "    </tr>\n",
       "  </tbody>\n",
       "</table>\n",
       "<p>150 rows × 5 columns</p>\n",
       "</div>"
      ],
      "text/plain": [
       "     sepal_length  sepal_width  petal_length  petal_width    species\n",
       "0             5.1          3.5           1.4          0.2     setosa\n",
       "1             4.9          3.0           1.4          0.2     setosa\n",
       "2             4.7          3.2           1.3          0.2     setosa\n",
       "3             4.6          3.1           1.5          0.2     setosa\n",
       "4             5.0          3.6           1.4          0.2     setosa\n",
       "..            ...          ...           ...          ...        ...\n",
       "145           6.7          3.0           5.2          2.3  virginica\n",
       "146           6.3          2.5           5.0          1.9  virginica\n",
       "147           6.5          3.0           5.2          2.0  virginica\n",
       "148           6.2          3.4           5.4          2.3  virginica\n",
       "149           5.9          3.0           5.1          1.8  virginica\n",
       "\n",
       "[150 rows x 5 columns]"
      ]
     },
     "execution_count": 1758,
     "metadata": {},
     "output_type": "execute_result"
    }
   ],
   "source": [
    "df = pd.read_csv('iris.csv')\n",
    "instances = get_ndarray_from_dataframe(df)\n",
    "df"
   ]
  },
  {
   "cell_type": "code",
   "execution_count": 1759,
   "id": "f5ff414f",
   "metadata": {},
   "outputs": [],
   "source": [
    "train_df, test_df = select_train_and_test_by_train_percentage(df, 0.8)"
   ]
  },
  {
   "cell_type": "code",
   "execution_count": 1760,
   "id": "c925168d",
   "metadata": {},
   "outputs": [
    {
     "name": "stdout",
     "output_type": "stream",
     "text": [
      "-------------------examples-------------------\n",
      "\n",
      "Type: <class 'numpy.ndarray'>\n",
      "Shape: (120, 5)\n",
      "contents:\n",
      "[[7.0 3.2 4.7 1.4 'versicolor']\n",
      " [6.1 2.9 4.7 1.4 'versicolor']\n",
      " [6.3 2.3 4.4 1.3 'versicolor']\n",
      " [4.8 3.0 1.4 0.3 'setosa']\n",
      " [6.7 2.5 5.8 1.8 'virginica']\n",
      " [5.1 3.4 1.5 0.2 'setosa']\n",
      " [5.1 3.8 1.5 0.3 'setosa']\n",
      " [6.4 2.8 5.6 2.2 'virginica']\n",
      " [5.4 3.4 1.5 0.4 'setosa']\n",
      " [4.9 3.6 1.4 0.1 'setosa']\n",
      " [6.7 3.1 4.7 1.5 'versicolor']\n",
      " [6.3 3.3 4.7 1.6 'versicolor']\n",
      " [7.7 3.8 6.7 2.2 'virginica']\n",
      " [5.5 2.4 3.7 1.0 'versicolor']\n",
      " [6.8 3.2 5.9 2.3 'virginica']\n",
      " [6.9 3.1 5.1 2.3 'virginica']\n",
      " [6.9 3.1 5.4 2.1 'virginica']\n",
      " [6.9 3.2 5.7 2.3 'virginica']\n",
      " [6.5 3.2 5.1 2.0 'virginica']\n",
      " [7.4 2.8 6.1 1.9 'virginica']\n",
      " [7.7 3.0 6.1 2.3 'virginica']\n",
      " [6.0 2.9 4.5 1.5 'versicolor']\n",
      " [5.0 3.6 1.4 0.2 'setosa']\n",
      " [4.4 2.9 1.4 0.2 'setosa']\n",
      " [4.8 3.4 1.6 0.2 'setosa']\n",
      " [5.6 3.0 4.1 1.3 'versicolor']\n",
      " [6.3 2.8 5.1 1.5 'virginica']\n",
      " [5.7 2.8 4.5 1.3 'versicolor']\n",
      " [5.1 3.3 1.7 0.5 'setosa']\n",
      " [6.0 3.0 4.8 1.8 'virginica']\n",
      " [5.9 3.0 4.2 1.5 'versicolor']\n",
      " [5.2 4.1 1.5 0.1 'setosa']\n",
      " [6.0 2.2 4.0 1.0 'versicolor']\n",
      " [5.1 3.5 1.4 0.2 'setosa']\n",
      " [7.1 3.0 5.9 2.1 'virginica']\n",
      " [6.4 3.1 5.5 1.8 'virginica']\n",
      " [5.2 3.4 1.4 0.2 'setosa']\n",
      " [5.9 3.0 5.1 1.8 'virginica']\n",
      " [6.2 2.2 4.5 1.5 'versicolor']\n",
      " [5.1 3.8 1.6 0.2 'setosa']\n",
      " [4.5 2.3 1.3 0.3 'setosa']\n",
      " [5.0 3.0 1.6 0.2 'setosa']\n",
      " [6.0 2.7 5.1 1.6 'versicolor']\n",
      " [4.6 3.4 1.4 0.3 'setosa']\n",
      " [5.1 2.5 3.0 1.1 'versicolor']\n",
      " [6.5 3.0 5.5 1.8 'virginica']\n",
      " [4.6 3.1 1.5 0.2 'setosa']\n",
      " [6.4 2.9 4.3 1.3 'versicolor']\n",
      " [5.6 2.7 4.2 1.3 'versicolor']\n",
      " [6.4 2.7 5.3 1.9 'virginica']\n",
      " [5.4 3.4 1.7 0.2 'setosa']\n",
      " [5.8 4.0 1.2 0.2 'setosa']\n",
      " [4.7 3.2 1.6 0.2 'setosa']\n",
      " [7.7 2.8 6.7 2.0 'virginica']\n",
      " [5.4 3.0 4.5 1.5 'versicolor']\n",
      " [6.5 3.0 5.2 2.0 'virginica']\n",
      " [6.7 3.1 5.6 2.4 'virginica']\n",
      " [5.6 3.0 4.5 1.5 'versicolor']\n",
      " [6.6 3.0 4.4 1.4 'versicolor']\n",
      " [4.4 3.0 1.3 0.2 'setosa']\n",
      " [4.8 3.0 1.4 0.1 'setosa']\n",
      " [5.9 3.2 4.8 1.8 'versicolor']\n",
      " [6.9 3.1 4.9 1.5 'versicolor']\n",
      " [5.0 3.5 1.3 0.3 'setosa']\n",
      " [5.8 2.7 5.1 1.9 'virginica']\n",
      " [5.5 2.4 3.8 1.1 'versicolor']\n",
      " [6.7 3.0 5.0 1.7 'versicolor']\n",
      " [5.0 3.2 1.2 0.2 'setosa']\n",
      " [6.1 2.8 4.0 1.3 'versicolor']\n",
      " [5.1 3.5 1.4 0.3 'setosa']\n",
      " [4.7 3.2 1.3 0.2 'setosa']\n",
      " [6.2 2.9 4.3 1.3 'versicolor']\n",
      " [5.4 3.9 1.7 0.4 'setosa']\n",
      " [6.5 2.8 4.6 1.5 'versicolor']\n",
      " [6.7 3.1 4.4 1.4 'versicolor']\n",
      " [7.2 3.2 6.0 1.8 'virginica']\n",
      " [5.7 2.5 5.0 2.0 'virginica']\n",
      " [5.1 3.8 1.9 0.4 'setosa']\n",
      " [7.2 3.6 6.1 2.5 'virginica']\n",
      " [7.3 2.9 6.3 1.8 'virginica']\n",
      " [4.9 3.0 1.4 0.2 'setosa']\n",
      " [5.8 2.7 5.1 1.9 'virginica']\n",
      " [7.6 3.0 6.6 2.1 'virginica']\n",
      " [5.0 2.3 3.3 1.0 'versicolor']\n",
      " [4.9 3.1 1.5 0.2 'setosa']\n",
      " [5.6 2.9 3.6 1.3 'versicolor']\n",
      " [5.5 3.5 1.3 0.2 'setosa']\n",
      " [5.5 2.6 4.4 1.2 'versicolor']\n",
      " [7.7 2.6 6.9 2.3 'virginica']\n",
      " [6.1 3.0 4.9 1.8 'virginica']\n",
      " [5.2 3.5 1.5 0.2 'setosa']\n",
      " [4.4 3.2 1.3 0.2 'setosa']\n",
      " [5.6 2.8 4.9 2.0 'virginica']\n",
      " [5.0 3.4 1.5 0.2 'setosa']\n",
      " [5.4 3.7 1.5 0.2 'setosa']\n",
      " [5.8 2.7 3.9 1.2 'versicolor']\n",
      " [6.2 3.4 5.4 2.3 'virginica']\n",
      " [5.0 3.3 1.4 0.2 'setosa']\n",
      " [7.9 3.8 6.4 2.0 'virginica']\n",
      " [5.0 3.5 1.6 0.6 'setosa']\n",
      " [5.7 2.9 4.2 1.3 'versicolor']\n",
      " [5.5 2.5 4.0 1.3 'versicolor']\n",
      " [5.5 2.3 4.0 1.3 'versicolor']\n",
      " [5.7 2.8 4.1 1.3 'versicolor']\n",
      " [6.8 2.8 4.8 1.4 'versicolor']\n",
      " [5.7 4.4 1.5 0.4 'setosa']\n",
      " [6.3 2.5 5.0 1.9 'virginica']\n",
      " [6.4 3.2 4.5 1.5 'versicolor']\n",
      " [5.0 2.0 3.5 1.0 'versicolor']\n",
      " [4.8 3.4 1.9 0.2 'setosa']\n",
      " [5.7 3.0 4.2 1.2 'versicolor']\n",
      " [6.3 2.7 4.9 1.8 'virginica']\n",
      " [6.7 3.3 5.7 2.5 'virginica']\n",
      " [5.8 2.6 4.0 1.2 'versicolor']\n",
      " [6.1 2.6 5.6 1.4 'virginica']\n",
      " [6.0 3.4 4.5 1.6 'versicolor']\n",
      " [6.3 3.3 6.0 2.5 'virginica']\n",
      " [6.7 3.3 5.7 2.1 'virginica']\n",
      " [4.9 3.1 1.5 0.1 'setosa']\n",
      " [5.5 4.2 1.4 0.2 'setosa']]\n",
      "\n",
      "--------------------------------------\n",
      "\n"
     ]
    }
   ],
   "source": [
    "examples = get_ndarray_from_dataframe(train_df)\n",
    "print_variable_data(examples, \"examples\")"
   ]
  },
  {
   "cell_type": "code",
   "execution_count": 1761,
   "id": "c925168d",
   "metadata": {},
   "outputs": [
    {
     "name": "stdout",
     "output_type": "stream",
     "text": [
      "-------------------train_instances-------------------\n",
      "\n",
      "Type: <class 'numpy.ndarray'>\n",
      "Shape: (120, 4)\n",
      "contents:\n",
      "[[7.0 3.2 4.7 1.4]\n",
      " [6.1 2.9 4.7 1.4]\n",
      " [6.3 2.3 4.4 1.3]\n",
      " [4.8 3.0 1.4 0.3]\n",
      " [6.7 2.5 5.8 1.8]\n",
      " [5.1 3.4 1.5 0.2]\n",
      " [5.1 3.8 1.5 0.3]\n",
      " [6.4 2.8 5.6 2.2]\n",
      " [5.4 3.4 1.5 0.4]\n",
      " [4.9 3.6 1.4 0.1]\n",
      " [6.7 3.1 4.7 1.5]\n",
      " [6.3 3.3 4.7 1.6]\n",
      " [7.7 3.8 6.7 2.2]\n",
      " [5.5 2.4 3.7 1.0]\n",
      " [6.8 3.2 5.9 2.3]\n",
      " [6.9 3.1 5.1 2.3]\n",
      " [6.9 3.1 5.4 2.1]\n",
      " [6.9 3.2 5.7 2.3]\n",
      " [6.5 3.2 5.1 2.0]\n",
      " [7.4 2.8 6.1 1.9]\n",
      " [7.7 3.0 6.1 2.3]\n",
      " [6.0 2.9 4.5 1.5]\n",
      " [5.0 3.6 1.4 0.2]\n",
      " [4.4 2.9 1.4 0.2]\n",
      " [4.8 3.4 1.6 0.2]\n",
      " [5.6 3.0 4.1 1.3]\n",
      " [6.3 2.8 5.1 1.5]\n",
      " [5.7 2.8 4.5 1.3]\n",
      " [5.1 3.3 1.7 0.5]\n",
      " [6.0 3.0 4.8 1.8]\n",
      " [5.9 3.0 4.2 1.5]\n",
      " [5.2 4.1 1.5 0.1]\n",
      " [6.0 2.2 4.0 1.0]\n",
      " [5.1 3.5 1.4 0.2]\n",
      " [7.1 3.0 5.9 2.1]\n",
      " [6.4 3.1 5.5 1.8]\n",
      " [5.2 3.4 1.4 0.2]\n",
      " [5.9 3.0 5.1 1.8]\n",
      " [6.2 2.2 4.5 1.5]\n",
      " [5.1 3.8 1.6 0.2]\n",
      " [4.5 2.3 1.3 0.3]\n",
      " [5.0 3.0 1.6 0.2]\n",
      " [6.0 2.7 5.1 1.6]\n",
      " [4.6 3.4 1.4 0.3]\n",
      " [5.1 2.5 3.0 1.1]\n",
      " [6.5 3.0 5.5 1.8]\n",
      " [4.6 3.1 1.5 0.2]\n",
      " [6.4 2.9 4.3 1.3]\n",
      " [5.6 2.7 4.2 1.3]\n",
      " [6.4 2.7 5.3 1.9]\n",
      " [5.4 3.4 1.7 0.2]\n",
      " [5.8 4.0 1.2 0.2]\n",
      " [4.7 3.2 1.6 0.2]\n",
      " [7.7 2.8 6.7 2.0]\n",
      " [5.4 3.0 4.5 1.5]\n",
      " [6.5 3.0 5.2 2.0]\n",
      " [6.7 3.1 5.6 2.4]\n",
      " [5.6 3.0 4.5 1.5]\n",
      " [6.6 3.0 4.4 1.4]\n",
      " [4.4 3.0 1.3 0.2]\n",
      " [4.8 3.0 1.4 0.1]\n",
      " [5.9 3.2 4.8 1.8]\n",
      " [6.9 3.1 4.9 1.5]\n",
      " [5.0 3.5 1.3 0.3]\n",
      " [5.8 2.7 5.1 1.9]\n",
      " [5.5 2.4 3.8 1.1]\n",
      " [6.7 3.0 5.0 1.7]\n",
      " [5.0 3.2 1.2 0.2]\n",
      " [6.1 2.8 4.0 1.3]\n",
      " [5.1 3.5 1.4 0.3]\n",
      " [4.7 3.2 1.3 0.2]\n",
      " [6.2 2.9 4.3 1.3]\n",
      " [5.4 3.9 1.7 0.4]\n",
      " [6.5 2.8 4.6 1.5]\n",
      " [6.7 3.1 4.4 1.4]\n",
      " [7.2 3.2 6.0 1.8]\n",
      " [5.7 2.5 5.0 2.0]\n",
      " [5.1 3.8 1.9 0.4]\n",
      " [7.2 3.6 6.1 2.5]\n",
      " [7.3 2.9 6.3 1.8]\n",
      " [4.9 3.0 1.4 0.2]\n",
      " [5.8 2.7 5.1 1.9]\n",
      " [7.6 3.0 6.6 2.1]\n",
      " [5.0 2.3 3.3 1.0]\n",
      " [4.9 3.1 1.5 0.2]\n",
      " [5.6 2.9 3.6 1.3]\n",
      " [5.5 3.5 1.3 0.2]\n",
      " [5.5 2.6 4.4 1.2]\n",
      " [7.7 2.6 6.9 2.3]\n",
      " [6.1 3.0 4.9 1.8]\n",
      " [5.2 3.5 1.5 0.2]\n",
      " [4.4 3.2 1.3 0.2]\n",
      " [5.6 2.8 4.9 2.0]\n",
      " [5.0 3.4 1.5 0.2]\n",
      " [5.4 3.7 1.5 0.2]\n",
      " [5.8 2.7 3.9 1.2]\n",
      " [6.2 3.4 5.4 2.3]\n",
      " [5.0 3.3 1.4 0.2]\n",
      " [7.9 3.8 6.4 2.0]\n",
      " [5.0 3.5 1.6 0.6]\n",
      " [5.7 2.9 4.2 1.3]\n",
      " [5.5 2.5 4.0 1.3]\n",
      " [5.5 2.3 4.0 1.3]\n",
      " [5.7 2.8 4.1 1.3]\n",
      " [6.8 2.8 4.8 1.4]\n",
      " [5.7 4.4 1.5 0.4]\n",
      " [6.3 2.5 5.0 1.9]\n",
      " [6.4 3.2 4.5 1.5]\n",
      " [5.0 2.0 3.5 1.0]\n",
      " [4.8 3.4 1.9 0.2]\n",
      " [5.7 3.0 4.2 1.2]\n",
      " [6.3 2.7 4.9 1.8]\n",
      " [6.7 3.3 5.7 2.5]\n",
      " [5.8 2.6 4.0 1.2]\n",
      " [6.1 2.6 5.6 1.4]\n",
      " [6.0 3.4 4.5 1.6]\n",
      " [6.3 3.3 6.0 2.5]\n",
      " [6.7 3.3 5.7 2.1]\n",
      " [4.9 3.1 1.5 0.1]\n",
      " [5.5 4.2 1.4 0.2]]\n",
      "\n",
      "--------------------------------------\n",
      "\n"
     ]
    }
   ],
   "source": [
    "train_instances = separate_features_and_classifications_for_ndarray(examples)[0]\n",
    "print_variable_data(train_instances, \"train_instances\")"
   ]
  },
  {
   "cell_type": "code",
   "execution_count": 1762,
   "id": "c925168d",
   "metadata": {},
   "outputs": [
    {
     "name": "stdout",
     "output_type": "stream",
     "text": [
      "-------------------test-------------------\n",
      "\n",
      "Type: <class 'numpy.ndarray'>\n",
      "Shape: (30, 5)\n",
      "contents:\n",
      "[[4.3 3.0 1.1 0.1 'setosa']\n",
      " [5.4 3.9 1.3 0.4 'setosa']\n",
      " [5.7 3.8 1.7 0.3 'setosa']\n",
      " [5.1 3.7 1.5 0.4 'setosa']\n",
      " [4.6 3.6 1.0 0.2 'setosa']\n",
      " [5.0 3.4 1.6 0.4 'setosa']\n",
      " [4.8 3.1 1.6 0.2 'setosa']\n",
      " [4.6 3.2 1.4 0.2 'setosa']\n",
      " [5.3 3.7 1.5 0.2 'setosa']\n",
      " [4.9 2.4 3.3 1.0 'versicolor']\n",
      " [6.6 2.9 4.6 1.3 'versicolor']\n",
      " [5.2 2.7 3.9 1.4 'versicolor']\n",
      " [5.8 2.7 4.1 1.0 'versicolor']\n",
      " [5.6 2.5 3.9 1.1 'versicolor']\n",
      " [6.3 2.5 4.9 1.5 'versicolor']\n",
      " [6.1 2.8 4.7 1.2 'versicolor']\n",
      " [5.7 2.6 3.5 1.0 'versicolor']\n",
      " [6.1 3.0 4.6 1.4 'versicolor']\n",
      " [6.3 2.9 5.6 1.8 'virginica']\n",
      " [6.5 3.0 5.8 2.2 'virginica']\n",
      " [4.9 2.5 4.5 1.7 'virginica']\n",
      " [6.8 3.0 5.5 2.1 'virginica']\n",
      " [5.8 2.8 5.1 2.4 'virginica']\n",
      " [6.4 3.2 5.3 2.3 'virginica']\n",
      " [6.0 2.2 5.0 1.5 'virginica']\n",
      " [6.2 2.8 4.8 1.8 'virginica']\n",
      " [6.4 2.8 5.6 2.1 'virginica']\n",
      " [7.2 3.0 5.8 1.6 'virginica']\n",
      " [6.3 3.4 5.6 2.4 'virginica']\n",
      " [6.7 3.0 5.2 2.3 'virginica']]\n",
      "\n",
      "--------------------------------------\n",
      "\n"
     ]
    }
   ],
   "source": [
    "test = get_ndarray_from_dataframe(test_df)\n",
    "print_variable_data(test, \"test\")"
   ]
  },
  {
   "cell_type": "code",
   "execution_count": 1763,
   "id": "c925168d",
   "metadata": {},
   "outputs": [
    {
     "name": "stdout",
     "output_type": "stream",
     "text": [
      "-------------------unclassified_instances-------------------\n",
      "\n",
      "Type: <class 'numpy.ndarray'>\n",
      "Shape: (30, 4)\n",
      "contents:\n",
      "[[4.3 3.  1.1 0.1]\n",
      " [5.4 3.9 1.3 0.4]\n",
      " [5.7 3.8 1.7 0.3]\n",
      " [5.1 3.7 1.5 0.4]\n",
      " [4.6 3.6 1.  0.2]\n",
      " [5.  3.4 1.6 0.4]\n",
      " [4.8 3.1 1.6 0.2]\n",
      " [4.6 3.2 1.4 0.2]\n",
      " [5.3 3.7 1.5 0.2]\n",
      " [4.9 2.4 3.3 1. ]\n",
      " [6.6 2.9 4.6 1.3]\n",
      " [5.2 2.7 3.9 1.4]\n",
      " [5.8 2.7 4.1 1. ]\n",
      " [5.6 2.5 3.9 1.1]\n",
      " [6.3 2.5 4.9 1.5]\n",
      " [6.1 2.8 4.7 1.2]\n",
      " [5.7 2.6 3.5 1. ]\n",
      " [6.1 3.  4.6 1.4]\n",
      " [6.3 2.9 5.6 1.8]\n",
      " [6.5 3.  5.8 2.2]\n",
      " [4.9 2.5 4.5 1.7]\n",
      " [6.8 3.  5.5 2.1]\n",
      " [5.8 2.8 5.1 2.4]\n",
      " [6.4 3.2 5.3 2.3]\n",
      " [6.  2.2 5.  1.5]\n",
      " [6.2 2.8 4.8 1.8]\n",
      " [6.4 2.8 5.6 2.1]\n",
      " [7.2 3.  5.8 1.6]\n",
      " [6.3 3.4 5.6 2.4]\n",
      " [6.7 3.  5.2 2.3]]\n",
      "\n",
      "--------------------------------------\n",
      "\n"
     ]
    }
   ],
   "source": [
    "unclassified_instances = separate_features_and_classifications_for_dataframe(test_df)[0]\n",
    "print_variable_data(unclassified_instances, \"unclassified_instances\")"
   ]
  },
  {
   "cell_type": "code",
   "execution_count": 1764,
   "id": "dba42737",
   "metadata": {},
   "outputs": [],
   "source": [
    "k_values = np.arange(1, 21)"
   ]
  },
  {
   "cell_type": "code",
   "execution_count": 1765,
   "id": "9face14b",
   "metadata": {},
   "outputs": [
    {
     "name": "stdout",
     "output_type": "stream",
     "text": [
      "----------------------------------\n",
      "Accuracy of train per K:\n",
      "\n",
      "for K=1, there is 100% accuracy.\n",
      "for K=2, there is 98.3333% accuracy.\n",
      "for K=3, there is 98.3333% accuracy.\n",
      "for K=4, there is 98.3333% accuracy.\n",
      "for K=5, there is 98.3333% accuracy.\n",
      "for K=6, there is 99.1667% accuracy.\n",
      "for K=7, there is 99.1667% accuracy.\n",
      "for K=8, there is 98.3333% accuracy.\n",
      "for K=9, there is 98.3333% accuracy.\n",
      "for K=10, there is 98.3333% accuracy.\n",
      "for K=11, there is 98.3333% accuracy.\n",
      "for K=12, there is 99.1667% accuracy.\n",
      "for K=13, there is 99.1667% accuracy.\n",
      "for K=14, there is 99.1667% accuracy.\n",
      "for K=15, there is 98.3333% accuracy.\n",
      "for K=16, there is 97.5% accuracy.\n",
      "for K=17, there is 98.3333% accuracy.\n",
      "for K=18, there is 98.3333% accuracy.\n",
      "for K=19, there is 98.3333% accuracy.\n",
      "for K=20, there is 98.3333% accuracy.\n",
      "----------------------------------\n"
     ]
    }
   ],
   "source": [
    "train_accuracies = KNN_accuracies_for_range_of_k(train_instances, examples, k_values)\n",
    "print_accuracy_per_k(train_accuracies, k_values, \"train\")"
   ]
  },
  {
   "cell_type": "code",
   "execution_count": 1766,
   "id": "9face14b",
   "metadata": {},
   "outputs": [
    {
     "name": "stdout",
     "output_type": "stream",
     "text": [
      "----------------------------------\n",
      "Accuracy of test per K:\n",
      "\n",
      "for K=1, there is 90% accuracy.\n",
      "for K=2, there is 90% accuracy.\n",
      "for K=3, there is 90% accuracy.\n",
      "for K=4, there is 90% accuracy.\n",
      "for K=5, there is 93.3333% accuracy.\n",
      "for K=6, there is 96.6667% accuracy.\n",
      "for K=7, there is 96.6667% accuracy.\n",
      "for K=8, there is 96.6667% accuracy.\n",
      "for K=9, there is 96.6667% accuracy.\n",
      "for K=10, there is 96.6667% accuracy.\n",
      "for K=11, there is 96.6667% accuracy.\n",
      "for K=12, there is 96.6667% accuracy.\n",
      "for K=13, there is 96.6667% accuracy.\n",
      "for K=14, there is 96.6667% accuracy.\n",
      "for K=15, there is 96.6667% accuracy.\n",
      "for K=16, there is 96.6667% accuracy.\n",
      "for K=17, there is 93.3333% accuracy.\n",
      "for K=18, there is 93.3333% accuracy.\n",
      "for K=19, there is 93.3333% accuracy.\n",
      "for K=20, there is 96.6667% accuracy.\n",
      "----------------------------------\n"
     ]
    }
   ],
   "source": [
    "test_accuracies = KNN_accuracies_for_range_of_k(unclassified_instances, examples, k_values, test)\n",
    "print_accuracy_per_k(test_accuracies, k_values, \"test\")"
   ]
  },
  {
   "cell_type": "code",
   "execution_count": 1767,
   "id": "03c2389b",
   "metadata": {},
   "outputs": [
    {
     "data": {
      "image/png": "[encoded data removed]",
      "text/plain": [
       "<Figure size 640x480 with 1 Axes>"
      ]
     },
     "metadata": {},
     "output_type": "display_data"
    }
   ],
   "source": [
    "graph_accuracies_of_train_and_test_over_k(train_accuracies, test_accuracies, k_values)"
   ]
  },
  {
   "cell_type": "markdown",
   "id": "a8153cb8",
   "metadata": {},
   "source": [
    "As we can see, amongst the train data, K=1 yield a 100% accuracy, this is because an unclassified train data entry always has an identical\n",
    "classified entry in the examples we use to classify. Since the two are identical, the euclidean distance between them would be the lowest possible, 0,\n",
    "and since we are using the single closest neighbor (as K=1), the identical entry would be the only entry we take into an account, and so the unclassified\n",
    "entry will be classified the same as the matching example entry, and it will always be the correct classification.<br><br>\n",
    "It is harder to say something about the test results, because the results are affected by what entries do we take as our train data.<br>\n",
    "In this code I shuffled the entries before taking a percentage of them as the train data, therefore, with each run of this code, the entries that make out the examples will be different, and so will be the results.<br>"
   ]
  },
  {
   "cell_type": "code",
   "execution_count": 1768,
   "id": "53a3d9c7",
   "metadata": {},
   "outputs": [],
   "source": [
    "train_avg_accuracies, test_avg_accuracies, train_best_k, test_best_k = average_accuracies_for_multiple_randomized_train_and_test(df, 0.8, k_values, 100)"
   ]
  },
  {
   "cell_type": "code",
   "execution_count": 1769,
   "id": "8c67ecc4",
   "metadata": {},
   "outputs": [
    {
     "name": "stdout",
     "output_type": "stream",
     "text": [
      "----------------------------------\n",
      "for K=1, there is 100% accuracy.\n",
      "for K=2, there is 97.6917% accuracy.\n",
      "for K=3, there is 96.3333% accuracy.\n",
      "for K=4, there is 96.7167% accuracy.\n",
      "for K=5, there is 97.2167% accuracy.\n",
      "for K=6, there is 97.3583% accuracy.\n",
      "for K=7, there is 97.5417% accuracy.\n",
      "for K=8, there is 97.5583% accuracy.\n",
      "for K=9, there is 97.6167% accuracy.\n",
      "for K=10, there is 97.5083% accuracy.\n",
      "for K=11, there is 97.7083% accuracy.\n",
      "for K=12, there is 97.525% accuracy.\n",
      "for K=13, there is 97.6583% accuracy.\n",
      "for K=14, there is 97.55% accuracy.\n",
      "for K=15, there is 97.6083% accuracy.\n",
      "for K=16, there is 97.3% accuracy.\n",
      "for K=17, there is 97.4083% accuracy.\n",
      "for K=18, there is 97.025% accuracy.\n",
      "for K=19, there is 97.1667% accuracy.\n",
      "for K=20, there is 96.525% accuracy.\n",
      "----------------------------------\n",
      "On average the best K values were:\n",
      "K=1\n",
      "being the K values with the highest accuracy roughly 100% of the times.\n"
     ]
    }
   ],
   "source": [
    "print_accuracy_per_k(train_avg_accuracies, k_values)\n",
    "print_best_ks_on_average(train_best_k[0], train_best_k[1])"
   ]
  },
  {
   "cell_type": "markdown",
   "id": "3dfff934",
   "metadata": {},
   "source": [
    "We can see that on average K=1 is the best K for the train data. This means that K=1 was the K value that yielded the highest accuracy the most.<br>\n",
    "We can see that K=1 had the highest accuracy 100% of the times. This fits perfectly with the fact I explained prior, according to which, when using train data, K=1 will always have 100% accuracy."
   ]
  },
  {
   "cell_type": "code",
   "execution_count": 1770,
   "id": "8c67ecc4",
   "metadata": {},
   "outputs": [
    {
     "name": "stdout",
     "output_type": "stream",
     "text": [
      "----------------------------------\n",
      "for K=1, there is 96.1% accuracy.\n",
      "for K=2, there is 94.8% accuracy.\n",
      "for K=3, there is 96.4333% accuracy.\n",
      "for K=4, there is 95.9667% accuracy.\n",
      "for K=5, there is 96.5% accuracy.\n",
      "for K=6, there is 96.2% accuracy.\n",
      "for K=7, there is 96.5% accuracy.\n",
      "for K=8, there is 96.1667% accuracy.\n",
      "for K=9, there is 96.5667% accuracy.\n",
      "for K=10, there is 96.5333% accuracy.\n",
      "for K=11, there is 96.9% accuracy.\n",
      "for K=12, there is 96.8667% accuracy.\n",
      "for K=13, there is 96.9667% accuracy.\n",
      "for K=14, there is 96.7333% accuracy.\n",
      "for K=15, there is 96.7333% accuracy.\n",
      "for K=16, there is 96.0667% accuracy.\n",
      "for K=17, there is 96.7% accuracy.\n",
      "for K=18, there is 95.8667% accuracy.\n",
      "for K=19, there is 96.2333% accuracy.\n",
      "for K=20, there is 95.7% accuracy.\n",
      "----------------------------------\n",
      "On average the best K values were:\n",
      "K=13\n",
      "being the K values with the highest accuracy roughly 64% of the times.\n"
     ]
    }
   ],
   "source": [
    "print_accuracy_per_k(test_avg_accuracies, k_values)\n",
    "print_best_ks_on_average(test_best_k[0], test_best_k[1])"
   ]
  },
  {
   "cell_type": "markdown",
   "id": "3dfff934",
   "metadata": {},
   "source": [
    "We can see that on average K=13 is the best K for the test data. This means that K=13 was the K value that yielded the highest accuracy the most.<br>\n",
    "By coincidence we also got that the average accuracy of K=13 was the highest, but this not a given!<br>\n",
    "The average accuracy, as the name suggests, represents the average accuracy K=13 had across 100 runs.<br>\n",
    "The 64% that is mentioned, represent the percentage of the times in which k=13 had the highest accuracy, even if that accuracy was rather low."
   ]
  },
  {
   "cell_type": "code",
   "execution_count": 1771,
   "id": "03c2389b",
   "metadata": {},
   "outputs": [
    {
     "data": {
      "image/png": "[encoded data removed]",
      "text/plain": [
       "<Figure size 640x480 with 1 Axes>"
      ]
     },
     "metadata": {},
     "output_type": "display_data"
    }
   ],
   "source": [
    "graph_accuracies_of_train_and_test_over_k(train_avg_accuracies, test_avg_accuracies, k_values)"
   ]
  },
  {
   "cell_type": "markdown",
   "id": "c1cf12e7",
   "metadata": {},
   "source": [
    "<h2>For Q4 - can be deleted</h2>"
   ]
  },
  {
   "cell_type": "code",
   "execution_count": 1775,
   "id": "212eafe0",
   "metadata": {},
   "outputs": [
    {
     "data": {
      "image/png": "[encoded data removed]",
      "text/plain": [
       "<Figure size 640x480 with 1 Axes>"
      ]
     },
     "metadata": {},
     "output_type": "display_data"
    }
   ],
   "source": [
    "data = np.array([[ 8.1 , -1.1],[ 9.9 , 2.8],[ 7.8 , 2.1],[ 9.2 , 0.7],[ 10.6 , 0.7],[ 6.4 , 2.1],[ 6.6 , 1.0],[ 9.5 , -1.1]])\n",
    "x_9 = np.array([8.0 , 1.5])\n",
    "plt.scatter(data[:,0], data[:,1], s=100)\n",
    "plt.scatter(x_9[0], x_9[1], s=100, color=\"red\")\n",
    "plt.show()"
   ]
  },
  {
   "cell_type": "code",
   "execution_count": 1776,
   "id": "83fd9c50",
   "metadata": {},
   "outputs": [
    {
     "data": {
      "text/plain": [
       "array([2.60192237, 2.30217289, 0.63245553, 1.44222051, 2.7202941 ,\n",
       "       1.70880075, 1.48660687, 3.0016662 ])"
      ]
     },
     "execution_count": 1776,
     "metadata": {},
     "output_type": "execute_result"
    }
   ],
   "source": [
    "calc_euclidean_distances(x_9, data)"
   ]
  }
 ],
 "metadata": {
  "kernelspec": {
   "display_name": "Python 3.9.13 ('base')",
   "language": "python",
   "name": "python3"
  },
  "language_info": {
   "codemirror_mode": {
    "name": "ipython",
    "version": 3
   },
   "file_extension": ".py",
   "mimetype": "text/x-python",
   "name": "python",
   "nbconvert_exporter": "python",
   "pygments_lexer": "ipython3",
   "version": "3.9.13"
  },
  "vscode": {
   "interpreter": {
    "hash": "a077222d77dfe082b8f1dd562ad70e458ac2ab76993a0b248ab0476e32e9e8dd"
   }
  }
 },
 "nbformat": 4,
 "nbformat_minor": 5
}
